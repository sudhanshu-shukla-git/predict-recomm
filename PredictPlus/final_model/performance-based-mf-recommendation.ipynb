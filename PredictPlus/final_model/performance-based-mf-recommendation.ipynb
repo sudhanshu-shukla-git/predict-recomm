{
 "cells": [
  {
   "cell_type": "code",
   "execution_count": 244,
   "id": "8c98adfb",
   "metadata": {},
   "outputs": [],
   "source": [
    "import pandas as pd\n",
    "from mftool import Mftool\n",
    "import pickle\n",
    "from os.path import exists\n",
    "import numpy as np\n",
    "import flask\n",
    "from flask import jsonify\n",
    "from flask import request, make_response,Response\n",
    "import warnings\n",
    "warnings.filterwarnings(\"ignore\")"
   ]
  },
  {
   "cell_type": "code",
   "execution_count": 17,
   "id": "03842e94",
   "metadata": {},
   "outputs": [],
   "source": [
    "mf_df=pd.read_pickle(\"mf_data.pkl.bz2\",compression=\"bz2\")"
   ]
  },
  {
   "cell_type": "code",
   "execution_count": 98,
   "id": "81feecbf",
   "metadata": {},
   "outputs": [],
   "source": [
    "mf_risk=mf_df[[\"scheme_code\",\"scheme_name\",\"Risk\"]]"
   ]
  },
  {
   "cell_type": "code",
   "execution_count": 316,
   "id": "12c6dfa8",
   "metadata": {},
   "outputs": [],
   "source": [
    "def get_mf_risk(scheme_code):\n",
    "    mf_risk_score= mf_df[mf_df[\"scheme_name\"].str.lower().str.contains(str(scheme_code).lower(),False)][\"Risk\"].to_list()\n",
    "    if len(mf_risk_score)>1:\n",
    "        return str(mf_risk_score[0])\n",
    "    elif len(mf_risk_score)==0:\n",
    "        return \"Moderate\"\n",
    "    else:\n",
    "        return str(mf_risk_score)"
   ]
  },
  {
   "cell_type": "code",
   "execution_count": 185,
   "id": "0f76b1d6",
   "metadata": {},
   "outputs": [],
   "source": [
    "obj = Mftool()\n",
    "top_equity=None\n",
    "top_debt=None\n",
    "top_hybrid=None\n",
    "top_soln=None\n",
    "top_other=None"
   ]
  },
  {
   "cell_type": "code",
   "execution_count": 86,
   "id": "8ad0c3ad",
   "metadata": {},
   "outputs": [],
   "source": [
    "def flatten(t):\n",
    "    return [item for sublist in t for item in sublist]"
   ]
  },
  {
   "cell_type": "code",
   "execution_count": 308,
   "id": "80a9405c",
   "metadata": {},
   "outputs": [],
   "source": [
    "def get_response(df):\n",
    "    try:\n",
    "        json = df.to_json(orient='records')\n",
    "        return Response(json, mimetype='application/json')\n",
    "    except Exception as ex:\n",
    "        print(ex,json)\n",
    "        return get_exception_response(ex)"
   ]
  },
  {
   "cell_type": "code",
   "execution_count": 271,
   "id": "72f9d887",
   "metadata": {},
   "outputs": [],
   "source": [
    "def get_exception_response(ex):\n",
    "    return Response(ex,500)"
   ]
  },
  {
   "cell_type": "code",
   "execution_count": 272,
   "id": "c183f597",
   "metadata": {},
   "outputs": [],
   "source": [
    "def performance_based_recommendation(mf_category=None,mf_sub_category=None,risk=None,top_n=5,load_cache=True):\n",
    "    try:\n",
    "        if mf_category==\"Equity Scheme\":\n",
    "            top_funds=get_equity_performance_based_funds(mf_sub_category,load_cache)\n",
    "        elif mf_category  ==\"Debt Scheme\":\n",
    "            top_funds==get_debt_performance_based_funds(mf_sub_category,load_cache)\n",
    "        elif mf_category  ==\"Hybrid Scheme\":\n",
    "            top_funds==get_hybrid_performance_based_funds(mf_sub_category,load_cache)\n",
    "        elif mf_category  ==\"Solution Scheme\":\n",
    "            top_funds=get_soln_performance_based_funds(mf_sub_category,load_cache)    \n",
    "        elif mf_category ==\"Other Scheme\":\n",
    "            top_funds=get_soln_performance_based_funds(mf_sub_category,load_cache)\n",
    "        else:\n",
    "            top_funds1=get_equity_performance_based_funds(mf_sub_category,load_cache)\n",
    "            top_funds2=get_debt_performance_based_funds(mf_sub_category,load_cache)\n",
    "            top_funds3=get_hybrid_performance_based_funds(mf_sub_category,load_cache)\n",
    "            top_funds4=get_soln_performance_based_funds(mf_sub_category,load_cache)  \n",
    "            top_funds5=get_soln_performance_based_funds(mf_sub_category,load_cache)\n",
    "            top_funds= pd.concat([top_funds1,top_funds2,top_funds3,top_funds4,top_funds5])\n",
    "\n",
    "        top_funds[\"risk\"]= top_funds[\"scheme_name\"].apply(lambda x: get_mf_risk(x))\n",
    "        if risk is None:\n",
    "            return get_response(top_funds.head(top_n))\n",
    "        else:\n",
    "            return get_response(top_funds[top_funds[\"risk\"]==risk].head(top_n))\n",
    "    except Exception as ex:\n",
    "        return get_exception_response(\"Error occured, please try again.\")"
   ]
  },
  {
   "cell_type": "code",
   "execution_count": 203,
   "id": "0df1afed",
   "metadata": {},
   "outputs": [],
   "source": [
    "def save_dict(dict_data,file_name):\n",
    "    f = open(file_name,\"wb\")\n",
    "        # write the python object (dict) to pickle file\n",
    "    pickle.dump(dict_data,f)\n",
    "    # close file\n",
    "    f.close()"
   ]
  },
  {
   "cell_type": "code",
   "execution_count": 204,
   "id": "0f98b159",
   "metadata": {},
   "outputs": [],
   "source": [
    "def load_dict(file_name):\n",
    "    file_to_read = open(file_name, \"rb\")\n",
    "    loaded_dictionary = pickle.load(file_to_read)\n",
    "    return loaded_dictionary"
   ]
  },
  {
   "cell_type": "code",
   "execution_count": 213,
   "id": "54ecbe22",
   "metadata": {},
   "outputs": [],
   "source": [
    "def get_equity_performance_based_funds(mf_sub_category=None,load_cache=True):\n",
    "    FILE_NAME=\"top_equity.pkl\"\n",
    "    global top_equity\n",
    "    if top_equity is None:\n",
    "        try:\n",
    "            if load_cache:\n",
    "                if exists(FILE_NAME):\n",
    "                    top_equity= load_dict(FILE_NAME)\n",
    "            else:\n",
    "                top_equity=obj.get_open_ended_equity_scheme_performance(as_json=False)\n",
    "                save_dict(top_equity,FILE_NAME)            \n",
    "        except Exception as ex:\n",
    "            if exists(FILE_NAME):\n",
    "                top_equity= load_dict(FILE_NAME)\n",
    "            else:\n",
    "                print(\"Network Error\")\n",
    "    if mf_sub_category is None:\n",
    "        return pd.DataFrame(flatten(list(top_equity.values())))\n",
    "    else:\n",
    "        return pd.DataFrame(top_equity[mf_sub_category])"
   ]
  },
  {
   "cell_type": "code",
   "execution_count": 214,
   "id": "fc3ff2a9",
   "metadata": {},
   "outputs": [],
   "source": [
    "def get_debt_performance_based_funds(mf_sub_category=None,load_cache=True):\n",
    "    FILE_NAME=\"top_debt.pkl\"\n",
    "    global top_debt\n",
    "    if top_debt is None:\n",
    "        try:\n",
    "            if load_cache:\n",
    "                if exists(FILE_NAME):\n",
    "                    top_debt= load_dict(FILE_NAME)\n",
    "            else:\n",
    "                top_debt=obj.get_open_ended_debt_scheme_performance(as_json=False)\n",
    "                save_dict(top_debt,FILE_NAME)                     \n",
    "        except Exception as ex:\n",
    "            if exists(FILE_NAME):\n",
    "                top_debt= load_dict(FILE_NAME)\n",
    "            else:\n",
    "                print(\"Network Error\")\n",
    "    if mf_sub_category is None:\n",
    "        return pd.DataFrame(flatten(list(top_debt.values())))\n",
    "    else:\n",
    "        return pd.DataFrame(top_debt[mf_sub_category])"
   ]
  },
  {
   "cell_type": "code",
   "execution_count": 230,
   "id": "024e907d",
   "metadata": {},
   "outputs": [],
   "source": [
    "def get_hybrid_performance_based_funds(mf_sub_category=None,load_cache=True):\n",
    "    FILE_NAME=\"top_hybrid.pkl\"\n",
    "    global top_hybrid \n",
    "    if top_hybrid is None:\n",
    "        try:\n",
    "            if load_cache:\n",
    "                if exists(FILE_NAME):\n",
    "                    top_hybrid= load_dict(FILE_NAME)\n",
    "            else:\n",
    "                top_hybrid=obj.get_open_ended_hybrid_scheme_performance(as_json=False)\n",
    "                save_dict(top_hybrid,FILE_NAME)             \n",
    "        except Exception as ex:\n",
    "            if exists(FILE_NAME):\n",
    "                top_hybrid= load_dict(FILE_NAME)\n",
    "            else:\n",
    "                print(\"Network Error\")\n",
    "    if mf_sub_category is None:\n",
    "        #print(top_hybrid.keys())\n",
    "        ## TODO: Remove other hybrid key\n",
    "        #del top_hybrid[\"Balanced Hybrid\"]\n",
    "        return pd.DataFrame(flatten(list(top_hybrid.values())))\n",
    "    else:\n",
    "        return pd.DataFrame(top_hybrid[mf_sub_category])"
   ]
  },
  {
   "cell_type": "code",
   "execution_count": 225,
   "id": "3e228909",
   "metadata": {},
   "outputs": [],
   "source": [
    "def get_soln_performance_based_funds(mf_sub_category=None,load_cache=True):\n",
    "    FILE_NAME=\"top_soln.pkl\"\n",
    "    global top_soln \n",
    "    if top_soln is None:\n",
    "        try: \n",
    "            if load_cache:\n",
    "                if exists(FILE_NAME):\n",
    "                    top_soln= load_dict(FILE_NAME)\n",
    "            else:\n",
    "                top_soln=obj.get_open_ended_debt_scheme_performance(as_json=False)\n",
    "                save_dict(top_soln,FILE_NAME)        \n",
    "        except Exception as ex:\n",
    "            if exists(FILE_NAME):\n",
    "                top_soln= load_dict(FILE_NAME)\n",
    "            else:\n",
    "                print(\"Network Error\")\n",
    "    if mf_sub_category is None:\n",
    "        return pd.DataFrame(flatten(list(top_soln.values())))\n",
    "    else:\n",
    "        return pd.DataFrame(top_soln[mf_sub_category])"
   ]
  },
  {
   "cell_type": "code",
   "execution_count": 226,
   "id": "f31d27af",
   "metadata": {},
   "outputs": [],
   "source": [
    "def get_other_performance_based_funds(mf_sub_category=None,load_cache=True):\n",
    "    FILE_NAME=\"top_other.pkl\"\n",
    "    global top_other \n",
    "    if top_other is None:\n",
    "        try:\n",
    "            if load_cache:\n",
    "                if exists(FILE_NAME):\n",
    "                    top_other= load_dict(FILE_NAME)\n",
    "            else:\n",
    "                top_other=obj.get_open_ended_other_scheme_performance(as_json=False)\n",
    "                save_dict(top_other,FILE_NAME)            \n",
    "        except Exception as ex:\n",
    "            if exists(FILE_NAME):\n",
    "                top_other= load_dict(FILE_NAME)\n",
    "            else:\n",
    "                print(\"Network Error\")\n",
    "    if mf_sub_category is None:\n",
    "        return pd.DataFrame(flatten(list(top_other.values())))\n",
    "    else:\n",
    "        return pd.DataFrame(top_other[mf_sub_category])"
   ]
  },
  {
   "cell_type": "code",
   "execution_count": 317,
   "id": "f6cb6841",
   "metadata": {},
   "outputs": [
    {
     "data": {
      "text/plain": [
       "b'[{\"scheme_name\":\"Baroda Large Cap\",\"benchmark\":\"NIFTY 100 Total Return Index\",\"latest NAV- Regular\":\"22.7400\",\"latest NAV- Direct\":\"24.2100\",\"1-Year Return(%)- Regular\":\"50.46\",\"1-Year Return(%)- Direct\":\"51.73\",\"3-Year Return(%)- Regular\":\"20.90\",\"3-Year Return(%)- Direct\":\"21.80\",\"5-Year Return(%)- Regular\":\"12.73\",\"5-Year Return(%)- Direct\":\"13.65\",\"risk\":\"Moderate\"},{\"scheme_name\":\"Canara Robeco Bluechip Equity Fund\",\"benchmark\":\"S&P BSE 100 Total Return Index\",\"latest NAV- Regular\":\"42.6500\",\"latest NAV- Direct\":\"46.9400\",\"1-Year Return(%)- Regular\":\"48.91\",\"1-Year Return(%)- Direct\":\"51.27\",\"3-Year Return(%)- Regular\":\"24.78\",\"3-Year Return(%)- Direct\":\"26.60\",\"5-Year Return(%)- Regular\":\"17.27\",\"5-Year Return(%)- Direct\":\"18.79\",\"risk\":\"Moderate\"},{\"scheme_name\":\"ICICI Prudential Bluechip Fund\",\"benchmark\":\"NIFTY 100 Total Return Index\",\"latest NAV- Regular\":\"66.1900\",\"latest NAV- Direct\":\"71.0900\",\"1-Year Return(%)- Regular\":\"54.61\",\"1-Year Return(%)- Direct\":\"55.56\",\"3-Year Return(%)- Regular\":\"20.16\",\"3-Year Return(%)- Direct\":\"20.95\",\"5-Year Return(%)- Regular\":\"15.41\",\"5-Year Return(%)- Direct\":\"16.32\",\"risk\":\"Moderate\"},{\"scheme_name\":\"IDFC Large Cap Fund\",\"benchmark\":\"S&P BSE 100 Total Return Index\",\"latest NAV- Regular\":\"50.7900\",\"latest NAV- Direct\":\"55.7300\",\"1-Year Return(%)- Regular\":\"43.64\",\"1-Year Return(%)- Direct\":\"45.36\",\"3-Year Return(%)- Regular\":\"19.85\",\"3-Year Return(%)- Direct\":\"21.10\",\"5-Year Return(%)- Regular\":\"14.62\",\"5-Year Return(%)- Direct\":\"15.82\",\"risk\":\"Moderate\"},{\"scheme_name\":\"Invesco India Largecap Fund\",\"benchmark\":\"NIFTY 50 Total Return Index\",\"latest NAV- Regular\":\"45.4200\",\"latest NAV- Direct\":\"51.6600\",\"1-Year Return(%)- Regular\":\"50.06\",\"1-Year Return(%)- Direct\":\"52.13\",\"3-Year Return(%)- Regular\":\"21.10\",\"3-Year Return(%)- Direct\":\"22.80\",\"5-Year Return(%)- Regular\":\"14.60\",\"5-Year Return(%)- Direct\":\"16.38\",\"risk\":\"Moderate\"}]'"
      ]
     },
     "execution_count": 317,
     "metadata": {},
     "output_type": "execute_result"
    }
   ],
   "source": [
    "performance_based_recommendation().data"
   ]
  },
  {
   "cell_type": "code",
   "execution_count": 313,
   "id": "cef4effa",
   "metadata": {},
   "outputs": [],
   "source": [
    "dict_score ={\"score\":\"556\",\"max_score\":\"700\",\"improve\":{\"mf_diversity\":\"Diversify your mutual funds. Don't invest only in one type of funds\",\"roi\":\"Your overall mutual fund rate of return is low. Try to invest in high return funds\"}}"
   ]
  },
  {
   "cell_type": "code",
   "execution_count": 314,
   "id": "f68a79b6",
   "metadata": {},
   "outputs": [
    {
     "name": "stdout",
     "output_type": "stream",
     "text": [
      "{\n",
      "    \"score\": \"556\",\n",
      "    \"max_score\": \"700\",\n",
      "    \"improve\": {\n",
      "        \"mf_diversity\": \"Diversify your mutual funds. Don't invest only in one type of funds\",\n",
      "        \"roi\": \"Your overall mutual fund rate of return is low. Try to invest in high return funds\"\n",
      "    }\n",
      "}\n"
     ]
    }
   ],
   "source": [
    "import json \n",
    "json_object = json.dumps(dict_score, indent = 4) \n",
    "print(json_object)"
   ]
  }
 ],
 "metadata": {
  "kernelspec": {
   "display_name": "conda_tensorflow_p36",
   "language": "python",
   "name": "conda_tensorflow_p36"
  },
  "language_info": {
   "codemirror_mode": {
    "name": "ipython",
    "version": 3
   },
   "file_extension": ".py",
   "mimetype": "text/x-python",
   "name": "python",
   "nbconvert_exporter": "python",
   "pygments_lexer": "ipython3",
   "version": "3.6.13"
  }
 },
 "nbformat": 4,
 "nbformat_minor": 5
}
