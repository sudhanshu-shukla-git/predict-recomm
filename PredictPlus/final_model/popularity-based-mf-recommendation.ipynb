{
 "cells": [
  {
   "cell_type": "code",
   "execution_count": 1,
   "id": "82f6b379",
   "metadata": {},
   "outputs": [],
   "source": [
    "import pandas as pd\n",
    "from mftool import Mftool\n",
    "from mf_performance_details import mf_performance\n",
    "from tqdm.notebook import tqdm"
   ]
  },
  {
   "cell_type": "code",
   "execution_count": 2,
   "id": "5ef24439",
   "metadata": {},
   "outputs": [],
   "source": [
    "mf_df=pd.read_pickle(\"mf_data_popular.pkl.bz2\",compression=\"bz2\")"
   ]
  },
  {
   "cell_type": "code",
   "execution_count": 3,
   "id": "9d9f1799",
   "metadata": {},
   "outputs": [],
   "source": [
    "# mf_df.to_pickle(\"mf_data_popular.pkl.bz2\",compression=\"bz2\")"
   ]
  },
  {
   "cell_type": "code",
   "execution_count": 4,
   "id": "0e492dec",
   "metadata": {},
   "outputs": [
    {
     "data": {
      "text/html": [
       "<div>\n",
       "<style scoped>\n",
       "    .dataframe tbody tr th:only-of-type {\n",
       "        vertical-align: middle;\n",
       "    }\n",
       "\n",
       "    .dataframe tbody tr th {\n",
       "        vertical-align: top;\n",
       "    }\n",
       "\n",
       "    .dataframe thead th {\n",
       "        text-align: right;\n",
       "    }\n",
       "</style>\n",
       "<table border=\"1\" class=\"dataframe\">\n",
       "  <thead>\n",
       "    <tr style=\"text-align: right;\">\n",
       "      <th></th>\n",
       "      <th>scheme_code</th>\n",
       "      <th>scheme_name</th>\n",
       "      <th>Risk</th>\n",
       "      <th>scheme_category</th>\n",
       "      <th>popularity</th>\n",
       "      <th>rank</th>\n",
       "      <th>mf_category</th>\n",
       "      <th>mf_sub_category</th>\n",
       "      <th>fund_name</th>\n",
       "    </tr>\n",
       "  </thead>\n",
       "  <tbody>\n",
       "    <tr>\n",
       "      <th>0</th>\n",
       "      <td>100033</td>\n",
       "      <td>Aditya Birla Sun Life Equity Advantage Fund -...</td>\n",
       "      <td>Moderate</td>\n",
       "      <td>Equity Scheme - Large &amp; Mid Cap Fund</td>\n",
       "      <td>27</td>\n",
       "      <td>6392.0</td>\n",
       "      <td>Equity Scheme</td>\n",
       "      <td>Large &amp; Mid Cap</td>\n",
       "      <td>Aditya Birla Sun Life Equity Advantage Fund</td>\n",
       "    </tr>\n",
       "    <tr>\n",
       "      <th>1</th>\n",
       "      <td>100034</td>\n",
       "      <td>Aditya Birla Sun Life Equity Advantage Fund -...</td>\n",
       "      <td>Moderate</td>\n",
       "      <td>Equity Scheme - Large &amp; Mid Cap Fund</td>\n",
       "      <td>22</td>\n",
       "      <td>11298.0</td>\n",
       "      <td>Equity Scheme</td>\n",
       "      <td>Large &amp; Mid Cap</td>\n",
       "      <td>Aditya Birla Sun Life Equity Advantage Fund</td>\n",
       "    </tr>\n",
       "    <tr>\n",
       "      <th>2</th>\n",
       "      <td>100037</td>\n",
       "      <td>Aditya Birla Sun Life Income Fund - Regular -...</td>\n",
       "      <td>Low to Moderate</td>\n",
       "      <td>Debt Scheme - Medium to Long Duration Fund</td>\n",
       "      <td>28</td>\n",
       "      <td>5383.0</td>\n",
       "      <td>Debt Scheme</td>\n",
       "      <td>Medium to Long Duration</td>\n",
       "      <td>Aditya Birla Sun Life Income Fund</td>\n",
       "    </tr>\n",
       "    <tr>\n",
       "      <th>3</th>\n",
       "      <td>100038</td>\n",
       "      <td>Aditya Birla Sun Life Income Fund - Growth - ...</td>\n",
       "      <td>Moderately High</td>\n",
       "      <td>Debt Scheme - Medium to Long Duration Fund</td>\n",
       "      <td>25</td>\n",
       "      <td>8528.0</td>\n",
       "      <td>Debt Scheme</td>\n",
       "      <td>Medium to Long Duration</td>\n",
       "      <td>Aditya Birla Sun Life Income Fund</td>\n",
       "    </tr>\n",
       "    <tr>\n",
       "      <th>4</th>\n",
       "      <td>100041</td>\n",
       "      <td>Aditya Birla Sun Life Liquid Fund -Institutio...</td>\n",
       "      <td>Moderately High</td>\n",
       "      <td>Debt Scheme - Liquid Fund</td>\n",
       "      <td>26</td>\n",
       "      <td>7459.0</td>\n",
       "      <td>Debt Scheme</td>\n",
       "      <td>Liquid</td>\n",
       "      <td>Aditya Birla Sun Life Liquid Fund</td>\n",
       "    </tr>\n",
       "  </tbody>\n",
       "</table>\n",
       "</div>"
      ],
      "text/plain": [
       "   scheme_code                                        scheme_name  \\\n",
       "0       100033   Aditya Birla Sun Life Equity Advantage Fund -...   \n",
       "1       100034   Aditya Birla Sun Life Equity Advantage Fund -...   \n",
       "2       100037   Aditya Birla Sun Life Income Fund - Regular -...   \n",
       "3       100038   Aditya Birla Sun Life Income Fund - Growth - ...   \n",
       "4       100041   Aditya Birla Sun Life Liquid Fund -Institutio...   \n",
       "\n",
       "              Risk                             scheme_category  popularity  \\\n",
       "0         Moderate        Equity Scheme - Large & Mid Cap Fund          27   \n",
       "1         Moderate        Equity Scheme - Large & Mid Cap Fund          22   \n",
       "2  Low to Moderate  Debt Scheme - Medium to Long Duration Fund          28   \n",
       "3  Moderately High  Debt Scheme - Medium to Long Duration Fund          25   \n",
       "4  Moderately High                   Debt Scheme - Liquid Fund          26   \n",
       "\n",
       "      rank    mf_category          mf_sub_category  \\\n",
       "0   6392.0  Equity Scheme          Large & Mid Cap   \n",
       "1  11298.0  Equity Scheme          Large & Mid Cap   \n",
       "2   5383.0    Debt Scheme  Medium to Long Duration   \n",
       "3   8528.0    Debt Scheme  Medium to Long Duration   \n",
       "4   7459.0    Debt Scheme                   Liquid   \n",
       "\n",
       "                                     fund_name  \n",
       "0  Aditya Birla Sun Life Equity Advantage Fund  \n",
       "1  Aditya Birla Sun Life Equity Advantage Fund  \n",
       "2            Aditya Birla Sun Life Income Fund  \n",
       "3            Aditya Birla Sun Life Income Fund  \n",
       "4            Aditya Birla Sun Life Liquid Fund  "
      ]
     },
     "execution_count": 4,
     "metadata": {},
     "output_type": "execute_result"
    }
   ],
   "source": [
    "mf_df.head()"
   ]
  },
  {
   "cell_type": "code",
   "execution_count": 5,
   "id": "b60d0a4d",
   "metadata": {},
   "outputs": [],
   "source": [
    "# dict_fund={\"fund_name\":[],\"risk\":[]}"
   ]
  },
  {
   "cell_type": "code",
   "execution_count": 6,
   "id": "eab52241",
   "metadata": {},
   "outputs": [],
   "source": [
    "# mf_risk_data=list(set(mf_df[\"fund_name\"]))\n",
    "# for mf in mf_risk_data:\n",
    "#     risk=mf_df[mf_df[\"fund_name\"]==mf][\"Risk\"].values[0]\n",
    "#     dict_fund[\"fund_name\"].append(mf)\n",
    "#     dict_fund[\"risk\"].append(risk)"
   ]
  },
  {
   "cell_type": "code",
   "execution_count": 7,
   "id": "b4f2d69b",
   "metadata": {},
   "outputs": [
    {
     "data": {
      "text/html": [
       "<div>\n",
       "<style scoped>\n",
       "    .dataframe tbody tr th:only-of-type {\n",
       "        vertical-align: middle;\n",
       "    }\n",
       "\n",
       "    .dataframe tbody tr th {\n",
       "        vertical-align: top;\n",
       "    }\n",
       "\n",
       "    .dataframe thead th {\n",
       "        text-align: right;\n",
       "    }\n",
       "</style>\n",
       "<table border=\"1\" class=\"dataframe\">\n",
       "  <thead>\n",
       "    <tr style=\"text-align: right;\">\n",
       "      <th></th>\n",
       "      <th>fund_name</th>\n",
       "      <th>risk</th>\n",
       "    </tr>\n",
       "  </thead>\n",
       "  <tbody>\n",
       "    <tr>\n",
       "      <th>0</th>\n",
       "      <td>BOI AXA Bluechip Fund Direct Plan Growth</td>\n",
       "      <td>Very High</td>\n",
       "    </tr>\n",
       "    <tr>\n",
       "      <th>1</th>\n",
       "      <td>JM Dynamic Debt Fund (Regular)</td>\n",
       "      <td>Moderately High</td>\n",
       "    </tr>\n",
       "    <tr>\n",
       "      <th>2</th>\n",
       "      <td>PGIM India Flexi Cap Fund</td>\n",
       "      <td>Low to Moderate</td>\n",
       "    </tr>\n",
       "    <tr>\n",
       "      <th>3</th>\n",
       "      <td>Navi Large Cap Equity Fund</td>\n",
       "      <td>Low to Moderate</td>\n",
       "    </tr>\n",
       "    <tr>\n",
       "      <th>4</th>\n",
       "      <td>NIPPON INDIA OVERNIGHT FUND</td>\n",
       "      <td>Low to Moderate</td>\n",
       "    </tr>\n",
       "    <tr>\n",
       "      <th>...</th>\n",
       "      <td>...</td>\n",
       "      <td>...</td>\n",
       "    </tr>\n",
       "    <tr>\n",
       "      <th>2524</th>\n",
       "      <td>Franklin India Bluechip Fund</td>\n",
       "      <td>Low to Moderate</td>\n",
       "    </tr>\n",
       "    <tr>\n",
       "      <th>2525</th>\n",
       "      <td>UTI SENSEX Exchange Traded Fund</td>\n",
       "      <td>Moderate</td>\n",
       "    </tr>\n",
       "    <tr>\n",
       "      <th>2526</th>\n",
       "      <td>Tata Fixed Maturity Plan Series 55 Scheme I</td>\n",
       "      <td>Moderate</td>\n",
       "    </tr>\n",
       "    <tr>\n",
       "      <th>2527</th>\n",
       "      <td>IDBI FOCUSED 30 EQUITY FUND</td>\n",
       "      <td>Moderately High</td>\n",
       "    </tr>\n",
       "    <tr>\n",
       "      <th>2528</th>\n",
       "      <td>ICICI Prudential India Equity FOF</td>\n",
       "      <td>Very High</td>\n",
       "    </tr>\n",
       "  </tbody>\n",
       "</table>\n",
       "<p>2529 rows × 2 columns</p>\n",
       "</div>"
      ],
      "text/plain": [
       "                                        fund_name             risk\n",
       "0        BOI AXA Bluechip Fund Direct Plan Growth        Very High\n",
       "1                  JM Dynamic Debt Fund (Regular)  Moderately High\n",
       "2                       PGIM India Flexi Cap Fund  Low to Moderate\n",
       "3                      Navi Large Cap Equity Fund  Low to Moderate\n",
       "4                     NIPPON INDIA OVERNIGHT FUND  Low to Moderate\n",
       "...                                           ...              ...\n",
       "2524                 Franklin India Bluechip Fund  Low to Moderate\n",
       "2525              UTI SENSEX Exchange Traded Fund         Moderate\n",
       "2526  Tata Fixed Maturity Plan Series 55 Scheme I         Moderate\n",
       "2527                  IDBI FOCUSED 30 EQUITY FUND  Moderately High\n",
       "2528            ICICI Prudential India Equity FOF        Very High\n",
       "\n",
       "[2529 rows x 2 columns]"
      ]
     },
     "execution_count": 7,
     "metadata": {},
     "output_type": "execute_result"
    }
   ],
   "source": [
    "pd.read_pickle(\"fund_risk_score.pkl.bz2\")"
   ]
  },
  {
   "cell_type": "code",
   "execution_count": 8,
   "id": "9f52cf18",
   "metadata": {},
   "outputs": [],
   "source": [
    "# pd.DataFrame(dict_fund).to_pickle(\"fund_risk_score.pkl.bz2\",compression=\"bz2\")"
   ]
  },
  {
   "cell_type": "code",
   "execution_count": 9,
   "id": "f45604b3",
   "metadata": {},
   "outputs": [],
   "source": [
    "def get_response(df):\n",
    "    try:\n",
    "        json = df.to_json(orient='records')\n",
    "        return Response(json, mimetype='application/json')\n",
    "    except Exception as ex:\n",
    "        print(ex,json)\n",
    "        return get_exception_response(ex)"
   ]
  },
  {
   "cell_type": "code",
   "execution_count": 10,
   "id": "70ce32be",
   "metadata": {},
   "outputs": [],
   "source": [
    "def get_exception_response(ex):\n",
    "    return Response(ex,500)"
   ]
  },
  {
   "cell_type": "code",
   "execution_count": 11,
   "id": "ae6ea405",
   "metadata": {},
   "outputs": [],
   "source": [
    "# def performance_based_recommendation(mf_category=None,mf_sub_category=None,risk=\"Moderate\",top_n=5,load_cache=True):\n",
    "#     try:\n",
    "        \n",
    "\n",
    "#         top_funds[\"risk\"]= top_funds[\"scheme_name\"].apply(lambda x: get_mf_risk(x))\n",
    "#         return get_response(top_funds[top_funds[\"risk\"]==risk].head(top_n))\n",
    "#     except Exception as ex:\n",
    "#         return get_exception_response(\"Error occured, please try again.\")"
   ]
  },
  {
   "cell_type": "code",
   "execution_count": 12,
   "id": "5fc18f89",
   "metadata": {},
   "outputs": [],
   "source": [
    "def get_popularity_based_funds(mf_category=None,mf_sub_category=None,risk=None,top_n=5,load_cache=True,user_mf_json=None):\n",
    "    FILE_NAME=\"mf_data_popular.pkl.bz2\"\n",
    "    global mf_df\n",
    "    if load_cache==True:\n",
    "        if mf_df is None:\n",
    "            mf_df=pd.read_pickle(FILE_NAME,compression=\"bz2\")\n",
    "    else:\n",
    "        mf_df=calculate_popularity(FILE_NAME,user_mf_json)\n",
    "    filter_df= mf_df.copy(deep=True)\n",
    "    if mf_category is not None:\n",
    "        filter_df=filter_df[filter_df[\"mf_category\"]==mf_category]\n",
    "    if mf_sub_category is not None:\n",
    "        filter_df=filter_df[filter_df[\"mf_sub_category\"]==mf_sub_category]    \n",
    "    \n",
    "    mf_perf=mf_performance()\n",
    "    suggested_mf=list(set(filter_df[\"fund_name\"]))\n",
    "    if risk is not None:        \n",
    "        filter_df[\"risk_score\"]= filter_df[\"scheme_name\"].apply(lambda x: mf_perf.get_mf_risk(x))\n",
    "        print(filter_df[\"risk_score\"])\n",
    "        suggested_mf=list(set(filter_df[filter_df[\"risk_score\"]==risk][\"fund_name\"]))[:5] \n",
    "    \n",
    "    result=get_performance_data(suggested_mf,mf_category,mf_sub_category,risk,load_cache)\n",
    "    result[\"risk\"]= result[\"scheme_name\"].apply(lambda x: mf_perf.get_mf_risk(x))\n",
    "        \n",
    "    return result.head(top_n)"
   ]
  },
  {
   "cell_type": "code",
   "execution_count": 13,
   "id": "4e3c3507",
   "metadata": {},
   "outputs": [],
   "source": [
    "def calculate_popularity(mf_data_file,user_mf_json):\n",
    "    global mf_df\n",
    "    if mf_df is None:\n",
    "            mf_df=pd.read_pickle(mf_data_file,compression=\"bz2\")   \n",
    "    user_df=pd.read_json(user_mf_json)\n",
    "    for index,mf in mf_df[\"scheme_code\"].items():\n",
    "        mf_df[\"popularity\"].iloc[index]=len(user_df[user_df[\"mf_id\"]==mf])\n",
    "    mf_df['rank'] = mf_df['popularity'].rank(ascending = 0, method = 'first')\n",
    "    return mf_df"
   ]
  },
  {
   "cell_type": "code",
   "execution_count": 14,
   "id": "9942d61a",
   "metadata": {},
   "outputs": [],
   "source": [
    "def get_mf_details(scheme_name,mf_category=None,mf_sub_category=None,load_cache=True):\n",
    "        selected_mf=None\n",
    "        selected_ratio=-1\n",
    "        result=pd.DataFrame(columns=['scheme_name', 'benchmark', 'latest NAV- Regular', 'latest NAV- Direct',\\\n",
    "       '1-Year Return(%)- Regular', '1-Year Return(%)- Direct',\\\n",
    "       '3-Year Return(%)- Regular', '3-Year Return(%)- Direct',\\\n",
    "       '5-Year Return(%)- Regular', '5-Year Return(%)- Direct'])\n",
    "\n",
    "        for mf in mf_data[\"scheme_name\"]:\n",
    "            if scheme_name.lower() == mf.lower():\n",
    "                ratio=100\n",
    "            else:\n",
    "                ratio=SequenceMatcher(a=scheme_name.lower(),b=mf.lower()).ratio()\n",
    "            if ratio >selected_ratio:\n",
    "                selected_ratio=ratio\n",
    "                selected_mf=mf \n",
    "                if selected_ratio==100:\n",
    "                    break\n",
    "        if selected_ratio>-1:\n",
    "            result=mf_data[mf_data[\"scheme_name\"]==selected_mf].drop_duplicates()\n",
    "        return result"
   ]
  },
  {
   "cell_type": "code",
   "execution_count": 15,
   "id": "a83d3ee7",
   "metadata": {},
   "outputs": [],
   "source": [
    "def get_performance_data(fund_names,mf_category=None,mf_sub_category=None,risk=None,load_cache=True):\n",
    "    mf_perf=mf_performance()\n",
    "    df_list=[]\n",
    "    \n",
    "    for fund in tqdm(fund_names):\n",
    "        df_perf=mf_perf.get_mf_details(fund,mf_category,mf_sub_category,risk,load_cache)\n",
    "        df_list.append(df_perf)\n",
    "    final_df=pd.concat(df_list)\n",
    "    final_df=pd.concat(df_list).reset_index(drop=True)\n",
    "    \n",
    "    return final_df"
   ]
  },
  {
   "cell_type": "code",
   "execution_count": 16,
   "id": "72dc6c4c",
   "metadata": {},
   "outputs": [
    {
     "ename": "KeyboardInterrupt",
     "evalue": "",
     "output_type": "error",
     "traceback": [
      "\u001b[0;31m---------------------------------------------------------------------------\u001b[0m",
      "\u001b[0;31mKeyboardInterrupt\u001b[0m                         Traceback (most recent call last)",
      "\u001b[0;32m<ipython-input-16-f1df7212cde6>\u001b[0m in \u001b[0;36m<module>\u001b[0;34m\u001b[0m\n\u001b[0;32m----> 1\u001b[0;31m \u001b[0mdf_data\u001b[0m\u001b[0;34m=\u001b[0m\u001b[0mget_popularity_based_funds\u001b[0m\u001b[0;34m(\u001b[0m\u001b[0mmf_category\u001b[0m\u001b[0;34m=\u001b[0m\u001b[0;34m\"Debt Scheme\"\u001b[0m\u001b[0;34m,\u001b[0m\u001b[0mrisk\u001b[0m\u001b[0;34m=\u001b[0m\u001b[0;34m\"Moderate\"\u001b[0m\u001b[0;34m)\u001b[0m\u001b[0;34m\u001b[0m\u001b[0;34m\u001b[0m\u001b[0m\n\u001b[0m",
      "\u001b[0;32m<ipython-input-12-62ff58dd7283>\u001b[0m in \u001b[0;36mget_popularity_based_funds\u001b[0;34m(mf_category, mf_sub_category, risk, top_n, load_cache, user_mf_json)\u001b[0m\n\u001b[1;32m     16\u001b[0m     \u001b[0msuggested_mf\u001b[0m\u001b[0;34m=\u001b[0m\u001b[0mlist\u001b[0m\u001b[0;34m(\u001b[0m\u001b[0mset\u001b[0m\u001b[0;34m(\u001b[0m\u001b[0mfilter_df\u001b[0m\u001b[0;34m[\u001b[0m\u001b[0;34m\"fund_name\"\u001b[0m\u001b[0;34m]\u001b[0m\u001b[0;34m)\u001b[0m\u001b[0;34m)\u001b[0m\u001b[0;34m\u001b[0m\u001b[0;34m\u001b[0m\u001b[0m\n\u001b[1;32m     17\u001b[0m     \u001b[0;32mif\u001b[0m \u001b[0mrisk\u001b[0m \u001b[0;32mis\u001b[0m \u001b[0;32mnot\u001b[0m \u001b[0;32mNone\u001b[0m\u001b[0;34m:\u001b[0m\u001b[0;34m\u001b[0m\u001b[0;34m\u001b[0m\u001b[0m\n\u001b[0;32m---> 18\u001b[0;31m         \u001b[0mfilter_df\u001b[0m\u001b[0;34m[\u001b[0m\u001b[0;34m\"risk_score\"\u001b[0m\u001b[0;34m]\u001b[0m\u001b[0;34m=\u001b[0m \u001b[0mfilter_df\u001b[0m\u001b[0;34m[\u001b[0m\u001b[0;34m\"scheme_name\"\u001b[0m\u001b[0;34m]\u001b[0m\u001b[0;34m.\u001b[0m\u001b[0mapply\u001b[0m\u001b[0;34m(\u001b[0m\u001b[0;32mlambda\u001b[0m \u001b[0mx\u001b[0m\u001b[0;34m:\u001b[0m \u001b[0mmf_perf\u001b[0m\u001b[0;34m.\u001b[0m\u001b[0mget_mf_risk\u001b[0m\u001b[0;34m(\u001b[0m\u001b[0mx\u001b[0m\u001b[0;34m)\u001b[0m\u001b[0;34m)\u001b[0m\u001b[0;34m\u001b[0m\u001b[0;34m\u001b[0m\u001b[0m\n\u001b[0m\u001b[1;32m     19\u001b[0m         \u001b[0mprint\u001b[0m\u001b[0;34m(\u001b[0m\u001b[0mfilter_df\u001b[0m\u001b[0;34m[\u001b[0m\u001b[0;34m\"risk_score\"\u001b[0m\u001b[0;34m]\u001b[0m\u001b[0;34m)\u001b[0m\u001b[0;34m\u001b[0m\u001b[0;34m\u001b[0m\u001b[0m\n\u001b[1;32m     20\u001b[0m         \u001b[0msuggested_mf\u001b[0m\u001b[0;34m=\u001b[0m\u001b[0mlist\u001b[0m\u001b[0;34m(\u001b[0m\u001b[0mset\u001b[0m\u001b[0;34m(\u001b[0m\u001b[0mfilter_df\u001b[0m\u001b[0;34m[\u001b[0m\u001b[0mfilter_df\u001b[0m\u001b[0;34m[\u001b[0m\u001b[0;34m\"risk_score\"\u001b[0m\u001b[0;34m]\u001b[0m\u001b[0;34m==\u001b[0m\u001b[0mrisk\u001b[0m\u001b[0;34m]\u001b[0m\u001b[0;34m[\u001b[0m\u001b[0;34m\"fund_name\"\u001b[0m\u001b[0;34m]\u001b[0m\u001b[0;34m)\u001b[0m\u001b[0;34m)\u001b[0m\u001b[0;34m[\u001b[0m\u001b[0;34m:\u001b[0m\u001b[0;36m5\u001b[0m\u001b[0;34m]\u001b[0m\u001b[0;34m\u001b[0m\u001b[0;34m\u001b[0m\u001b[0m\n",
      "\u001b[0;32m~/anaconda3/envs/tensorflow_p36/lib/python3.6/site-packages/pandas/core/series.py\u001b[0m in \u001b[0;36mapply\u001b[0;34m(self, func, convert_dtype, args, **kwds)\u001b[0m\n\u001b[1;32m   4211\u001b[0m             \u001b[0;32melse\u001b[0m\u001b[0;34m:\u001b[0m\u001b[0;34m\u001b[0m\u001b[0;34m\u001b[0m\u001b[0m\n\u001b[1;32m   4212\u001b[0m                 \u001b[0mvalues\u001b[0m \u001b[0;34m=\u001b[0m \u001b[0mself\u001b[0m\u001b[0;34m.\u001b[0m\u001b[0mastype\u001b[0m\u001b[0;34m(\u001b[0m\u001b[0mobject\u001b[0m\u001b[0;34m)\u001b[0m\u001b[0;34m.\u001b[0m\u001b[0m_values\u001b[0m\u001b[0;34m\u001b[0m\u001b[0;34m\u001b[0m\u001b[0m\n\u001b[0;32m-> 4213\u001b[0;31m                 \u001b[0mmapped\u001b[0m \u001b[0;34m=\u001b[0m \u001b[0mlib\u001b[0m\u001b[0;34m.\u001b[0m\u001b[0mmap_infer\u001b[0m\u001b[0;34m(\u001b[0m\u001b[0mvalues\u001b[0m\u001b[0;34m,\u001b[0m \u001b[0mf\u001b[0m\u001b[0;34m,\u001b[0m \u001b[0mconvert\u001b[0m\u001b[0;34m=\u001b[0m\u001b[0mconvert_dtype\u001b[0m\u001b[0;34m)\u001b[0m\u001b[0;34m\u001b[0m\u001b[0;34m\u001b[0m\u001b[0m\n\u001b[0m\u001b[1;32m   4214\u001b[0m \u001b[0;34m\u001b[0m\u001b[0m\n\u001b[1;32m   4215\u001b[0m         \u001b[0;32mif\u001b[0m \u001b[0mlen\u001b[0m\u001b[0;34m(\u001b[0m\u001b[0mmapped\u001b[0m\u001b[0;34m)\u001b[0m \u001b[0;32mand\u001b[0m \u001b[0misinstance\u001b[0m\u001b[0;34m(\u001b[0m\u001b[0mmapped\u001b[0m\u001b[0;34m[\u001b[0m\u001b[0;36m0\u001b[0m\u001b[0;34m]\u001b[0m\u001b[0;34m,\u001b[0m \u001b[0mSeries\u001b[0m\u001b[0;34m)\u001b[0m\u001b[0;34m:\u001b[0m\u001b[0;34m\u001b[0m\u001b[0;34m\u001b[0m\u001b[0m\n",
      "\u001b[0;32mpandas/_libs/lib.pyx\u001b[0m in \u001b[0;36mpandas._libs.lib.map_infer\u001b[0;34m()\u001b[0m\n",
      "\u001b[0;32m<ipython-input-12-62ff58dd7283>\u001b[0m in \u001b[0;36m<lambda>\u001b[0;34m(x)\u001b[0m\n\u001b[1;32m     16\u001b[0m     \u001b[0msuggested_mf\u001b[0m\u001b[0;34m=\u001b[0m\u001b[0mlist\u001b[0m\u001b[0;34m(\u001b[0m\u001b[0mset\u001b[0m\u001b[0;34m(\u001b[0m\u001b[0mfilter_df\u001b[0m\u001b[0;34m[\u001b[0m\u001b[0;34m\"fund_name\"\u001b[0m\u001b[0;34m]\u001b[0m\u001b[0;34m)\u001b[0m\u001b[0;34m)\u001b[0m\u001b[0;34m\u001b[0m\u001b[0;34m\u001b[0m\u001b[0m\n\u001b[1;32m     17\u001b[0m     \u001b[0;32mif\u001b[0m \u001b[0mrisk\u001b[0m \u001b[0;32mis\u001b[0m \u001b[0;32mnot\u001b[0m \u001b[0;32mNone\u001b[0m\u001b[0;34m:\u001b[0m\u001b[0;34m\u001b[0m\u001b[0;34m\u001b[0m\u001b[0m\n\u001b[0;32m---> 18\u001b[0;31m         \u001b[0mfilter_df\u001b[0m\u001b[0;34m[\u001b[0m\u001b[0;34m\"risk_score\"\u001b[0m\u001b[0;34m]\u001b[0m\u001b[0;34m=\u001b[0m \u001b[0mfilter_df\u001b[0m\u001b[0;34m[\u001b[0m\u001b[0;34m\"scheme_name\"\u001b[0m\u001b[0;34m]\u001b[0m\u001b[0;34m.\u001b[0m\u001b[0mapply\u001b[0m\u001b[0;34m(\u001b[0m\u001b[0;32mlambda\u001b[0m \u001b[0mx\u001b[0m\u001b[0;34m:\u001b[0m \u001b[0mmf_perf\u001b[0m\u001b[0;34m.\u001b[0m\u001b[0mget_mf_risk\u001b[0m\u001b[0;34m(\u001b[0m\u001b[0mx\u001b[0m\u001b[0;34m)\u001b[0m\u001b[0;34m)\u001b[0m\u001b[0;34m\u001b[0m\u001b[0;34m\u001b[0m\u001b[0m\n\u001b[0m\u001b[1;32m     19\u001b[0m         \u001b[0mprint\u001b[0m\u001b[0;34m(\u001b[0m\u001b[0mfilter_df\u001b[0m\u001b[0;34m[\u001b[0m\u001b[0;34m\"risk_score\"\u001b[0m\u001b[0;34m]\u001b[0m\u001b[0;34m)\u001b[0m\u001b[0;34m\u001b[0m\u001b[0;34m\u001b[0m\u001b[0m\n\u001b[1;32m     20\u001b[0m         \u001b[0msuggested_mf\u001b[0m\u001b[0;34m=\u001b[0m\u001b[0mlist\u001b[0m\u001b[0;34m(\u001b[0m\u001b[0mset\u001b[0m\u001b[0;34m(\u001b[0m\u001b[0mfilter_df\u001b[0m\u001b[0;34m[\u001b[0m\u001b[0mfilter_df\u001b[0m\u001b[0;34m[\u001b[0m\u001b[0;34m\"risk_score\"\u001b[0m\u001b[0;34m]\u001b[0m\u001b[0;34m==\u001b[0m\u001b[0mrisk\u001b[0m\u001b[0;34m]\u001b[0m\u001b[0;34m[\u001b[0m\u001b[0;34m\"fund_name\"\u001b[0m\u001b[0;34m]\u001b[0m\u001b[0;34m)\u001b[0m\u001b[0;34m)\u001b[0m\u001b[0;34m[\u001b[0m\u001b[0;34m:\u001b[0m\u001b[0;36m5\u001b[0m\u001b[0;34m]\u001b[0m\u001b[0;34m\u001b[0m\u001b[0;34m\u001b[0m\u001b[0m\n",
      "\u001b[0;32m~/SageMaker/PredictPlus/final_model/mf_performance_details.py\u001b[0m in \u001b[0;36mget_mf_risk\u001b[0;34m(self, scheme_name, default)\u001b[0m\n\u001b[1;32m     63\u001b[0m         \u001b[0;32melif\u001b[0m \u001b[0;34m(\u001b[0m\u001b[0mlen\u001b[0m\u001b[0;34m(\u001b[0m\u001b[0mmf_risk_score\u001b[0m\u001b[0;34m)\u001b[0m\u001b[0;34m==\u001b[0m\u001b[0;36m0\u001b[0m\u001b[0;34m)\u001b[0m \u001b[0;32mor\u001b[0m \u001b[0;34m(\u001b[0m\u001b[0mmf_risk_score\u001b[0m \u001b[0;32mis\u001b[0m \u001b[0;32mNone\u001b[0m\u001b[0;34m)\u001b[0m\u001b[0;34m:\u001b[0m\u001b[0;34m\u001b[0m\u001b[0;34m\u001b[0m\u001b[0m\n\u001b[1;32m     64\u001b[0m             \u001b[0;32mfor\u001b[0m \u001b[0mmf\u001b[0m \u001b[0;32min\u001b[0m \u001b[0mmf_df\u001b[0m\u001b[0;34m[\u001b[0m\u001b[0;34m\"fund_name\"\u001b[0m\u001b[0;34m]\u001b[0m\u001b[0;34m:\u001b[0m\u001b[0;34m\u001b[0m\u001b[0;34m\u001b[0m\u001b[0m\n\u001b[0;32m---> 65\u001b[0;31m                 \u001b[0mratio\u001b[0m\u001b[0;34m=\u001b[0m\u001b[0mSequenceMatcher\u001b[0m\u001b[0;34m(\u001b[0m\u001b[0ma\u001b[0m\u001b[0;34m=\u001b[0m\u001b[0mscheme_name\u001b[0m\u001b[0;34m.\u001b[0m\u001b[0mstrip\u001b[0m\u001b[0;34m(\u001b[0m\u001b[0;34m)\u001b[0m\u001b[0;34m.\u001b[0m\u001b[0mlower\u001b[0m\u001b[0;34m(\u001b[0m\u001b[0;34m)\u001b[0m\u001b[0;34m,\u001b[0m\u001b[0mb\u001b[0m\u001b[0;34m=\u001b[0m\u001b[0mmf\u001b[0m\u001b[0;34m)\u001b[0m\u001b[0;34m.\u001b[0m\u001b[0mratio\u001b[0m\u001b[0;34m(\u001b[0m\u001b[0;34m)\u001b[0m\u001b[0;34m\u001b[0m\u001b[0;34m\u001b[0m\u001b[0m\n\u001b[0m\u001b[1;32m     66\u001b[0m                 \u001b[0;32mif\u001b[0m \u001b[0mratio\u001b[0m \u001b[0;34m>\u001b[0m\u001b[0mselected_ratio\u001b[0m\u001b[0;34m:\u001b[0m\u001b[0;34m\u001b[0m\u001b[0;34m\u001b[0m\u001b[0m\n\u001b[1;32m     67\u001b[0m                     \u001b[0mselected_ratio\u001b[0m\u001b[0;34m=\u001b[0m\u001b[0mratio\u001b[0m\u001b[0;34m\u001b[0m\u001b[0;34m\u001b[0m\u001b[0m\n",
      "\u001b[0;32m~/anaconda3/envs/tensorflow_p36/lib/python3.6/difflib.py\u001b[0m in \u001b[0;36mratio\u001b[0;34m(self)\u001b[0m\n\u001b[1;32m    642\u001b[0m         \"\"\"\n\u001b[1;32m    643\u001b[0m \u001b[0;34m\u001b[0m\u001b[0m\n\u001b[0;32m--> 644\u001b[0;31m         \u001b[0mmatches\u001b[0m \u001b[0;34m=\u001b[0m \u001b[0msum\u001b[0m\u001b[0;34m(\u001b[0m\u001b[0mtriple\u001b[0m\u001b[0;34m[\u001b[0m\u001b[0;34m-\u001b[0m\u001b[0;36m1\u001b[0m\u001b[0;34m]\u001b[0m \u001b[0;32mfor\u001b[0m \u001b[0mtriple\u001b[0m \u001b[0;32min\u001b[0m \u001b[0mself\u001b[0m\u001b[0;34m.\u001b[0m\u001b[0mget_matching_blocks\u001b[0m\u001b[0;34m(\u001b[0m\u001b[0;34m)\u001b[0m\u001b[0;34m)\u001b[0m\u001b[0;34m\u001b[0m\u001b[0;34m\u001b[0m\u001b[0m\n\u001b[0m\u001b[1;32m    645\u001b[0m         \u001b[0;32mreturn\u001b[0m \u001b[0m_calculate_ratio\u001b[0m\u001b[0;34m(\u001b[0m\u001b[0mmatches\u001b[0m\u001b[0;34m,\u001b[0m \u001b[0mlen\u001b[0m\u001b[0;34m(\u001b[0m\u001b[0mself\u001b[0m\u001b[0;34m.\u001b[0m\u001b[0ma\u001b[0m\u001b[0;34m)\u001b[0m \u001b[0;34m+\u001b[0m \u001b[0mlen\u001b[0m\u001b[0;34m(\u001b[0m\u001b[0mself\u001b[0m\u001b[0;34m.\u001b[0m\u001b[0mb\u001b[0m\u001b[0;34m)\u001b[0m\u001b[0;34m)\u001b[0m\u001b[0;34m\u001b[0m\u001b[0;34m\u001b[0m\u001b[0m\n\u001b[1;32m    646\u001b[0m \u001b[0;34m\u001b[0m\u001b[0m\n",
      "\u001b[0;32m~/anaconda3/envs/tensorflow_p36/lib/python3.6/difflib.py\u001b[0m in \u001b[0;36mget_matching_blocks\u001b[0;34m(self)\u001b[0m\n\u001b[1;32m    477\u001b[0m         \u001b[0;32mwhile\u001b[0m \u001b[0mqueue\u001b[0m\u001b[0;34m:\u001b[0m\u001b[0;34m\u001b[0m\u001b[0;34m\u001b[0m\u001b[0m\n\u001b[1;32m    478\u001b[0m             \u001b[0malo\u001b[0m\u001b[0;34m,\u001b[0m \u001b[0mahi\u001b[0m\u001b[0;34m,\u001b[0m \u001b[0mblo\u001b[0m\u001b[0;34m,\u001b[0m \u001b[0mbhi\u001b[0m \u001b[0;34m=\u001b[0m \u001b[0mqueue\u001b[0m\u001b[0;34m.\u001b[0m\u001b[0mpop\u001b[0m\u001b[0;34m(\u001b[0m\u001b[0;34m)\u001b[0m\u001b[0;34m\u001b[0m\u001b[0;34m\u001b[0m\u001b[0m\n\u001b[0;32m--> 479\u001b[0;31m             \u001b[0mi\u001b[0m\u001b[0;34m,\u001b[0m \u001b[0mj\u001b[0m\u001b[0;34m,\u001b[0m \u001b[0mk\u001b[0m \u001b[0;34m=\u001b[0m \u001b[0mx\u001b[0m \u001b[0;34m=\u001b[0m \u001b[0mself\u001b[0m\u001b[0;34m.\u001b[0m\u001b[0mfind_longest_match\u001b[0m\u001b[0;34m(\u001b[0m\u001b[0malo\u001b[0m\u001b[0;34m,\u001b[0m \u001b[0mahi\u001b[0m\u001b[0;34m,\u001b[0m \u001b[0mblo\u001b[0m\u001b[0;34m,\u001b[0m \u001b[0mbhi\u001b[0m\u001b[0;34m)\u001b[0m\u001b[0;34m\u001b[0m\u001b[0;34m\u001b[0m\u001b[0m\n\u001b[0m\u001b[1;32m    480\u001b[0m             \u001b[0;31m# a[alo:i] vs b[blo:j] unknown\u001b[0m\u001b[0;34m\u001b[0m\u001b[0;34m\u001b[0m\u001b[0;34m\u001b[0m\u001b[0m\n\u001b[1;32m    481\u001b[0m             \u001b[0;31m# a[i:i+k] same as b[j:j+k]\u001b[0m\u001b[0;34m\u001b[0m\u001b[0;34m\u001b[0m\u001b[0;34m\u001b[0m\u001b[0m\n",
      "\u001b[0;32m~/anaconda3/envs/tensorflow_p36/lib/python3.6/difflib.py\u001b[0m in \u001b[0;36mfind_longest_match\u001b[0;34m(self, alo, ahi, blo, bhi)\u001b[0m\n\u001b[1;32m    390\u001b[0m         \u001b[0;31m# the unique 'b's and then matching the first two 'a's.\u001b[0m\u001b[0;34m\u001b[0m\u001b[0;34m\u001b[0m\u001b[0;34m\u001b[0m\u001b[0m\n\u001b[1;32m    391\u001b[0m \u001b[0;34m\u001b[0m\u001b[0m\n\u001b[0;32m--> 392\u001b[0;31m         \u001b[0ma\u001b[0m\u001b[0;34m,\u001b[0m \u001b[0mb\u001b[0m\u001b[0;34m,\u001b[0m \u001b[0mb2j\u001b[0m\u001b[0;34m,\u001b[0m \u001b[0misbjunk\u001b[0m \u001b[0;34m=\u001b[0m \u001b[0mself\u001b[0m\u001b[0;34m.\u001b[0m\u001b[0ma\u001b[0m\u001b[0;34m,\u001b[0m \u001b[0mself\u001b[0m\u001b[0;34m.\u001b[0m\u001b[0mb\u001b[0m\u001b[0;34m,\u001b[0m \u001b[0mself\u001b[0m\u001b[0;34m.\u001b[0m\u001b[0mb2j\u001b[0m\u001b[0;34m,\u001b[0m \u001b[0mself\u001b[0m\u001b[0;34m.\u001b[0m\u001b[0mbjunk\u001b[0m\u001b[0;34m.\u001b[0m\u001b[0m__contains__\u001b[0m\u001b[0;34m\u001b[0m\u001b[0;34m\u001b[0m\u001b[0m\n\u001b[0m\u001b[1;32m    393\u001b[0m         \u001b[0mbesti\u001b[0m\u001b[0;34m,\u001b[0m \u001b[0mbestj\u001b[0m\u001b[0;34m,\u001b[0m \u001b[0mbestsize\u001b[0m \u001b[0;34m=\u001b[0m \u001b[0malo\u001b[0m\u001b[0;34m,\u001b[0m \u001b[0mblo\u001b[0m\u001b[0;34m,\u001b[0m \u001b[0;36m0\u001b[0m\u001b[0;34m\u001b[0m\u001b[0;34m\u001b[0m\u001b[0m\n\u001b[1;32m    394\u001b[0m         \u001b[0;31m# find longest junk-free match\u001b[0m\u001b[0;34m\u001b[0m\u001b[0;34m\u001b[0m\u001b[0;34m\u001b[0m\u001b[0m\n",
      "\u001b[0;31mKeyboardInterrupt\u001b[0m: "
     ]
    }
   ],
   "source": [
    "df_data=get_popularity_based_funds(mf_category=\"Debt Scheme\",risk=\"Moderate\")"
   ]
  },
  {
   "cell_type": "code",
   "execution_count": null,
   "id": "3179d3b6",
   "metadata": {},
   "outputs": [],
   "source": [
    "df_data.head()"
   ]
  },
  {
   "cell_type": "code",
   "execution_count": null,
   "id": "fa9a8a26",
   "metadata": {},
   "outputs": [],
   "source": [
    "df_data=get_popularity_based_funds(mf_category=\"Equity Scheme\")"
   ]
  },
  {
   "cell_type": "code",
   "execution_count": null,
   "id": "078cd030",
   "metadata": {},
   "outputs": [],
   "source": [
    "df_data"
   ]
  },
  {
   "cell_type": "code",
   "execution_count": null,
   "id": "5b3fe630",
   "metadata": {},
   "outputs": [],
   "source": [
    "def get_mf_risk(scheme_name,mf_df,default=\"Moderate\"):\n",
    "    selected_mf=None\n",
    "    selected_ratio=-1    \n",
    "    mf_risk_score= mf_df[mf_df[\"fund_name\"].str.lower()==str(scheme_name).lower()][\"Risk\"].to_list()\n",
    "    if len(mf_risk_score)>=1:\n",
    "        return str(mf_risk_score[0])\n",
    "    elif len(mf_risk_score)==0:\n",
    "        ratio=SequenceMatcher(a=scheme_name.lower(),b=mf.lower()).ratio()\n",
    "        for mf in mf_df[\"fund_name\"].str.lower():\n",
    "            ratio=SequenceMatcher(a=scheme_name.lower(),b=mf.lower()).ratio()\n",
    "            if ratio >selected_ratio:\n",
    "                selected_ratio=ratio\n",
    "                selected_mf=mf \n",
    "        mf_risk_score= mf_df[mf_df[\"fund_name\"].str.lower()==str(selected_mf).lower()][\"Risk\"].to_list()\n",
    "        return mf_risk_score[0]\n",
    "    else:\n",
    "        return str(mf_risk_score)"
   ]
  },
  {
   "cell_type": "code",
   "execution_count": null,
   "id": "5d4008aa",
   "metadata": {},
   "outputs": [],
   "source": []
  },
  {
   "cell_type": "code",
   "execution_count": null,
   "id": "8498c445",
   "metadata": {},
   "outputs": [],
   "source": [
    "def get_mf_details(self,scheme_name,mf_category=None,mf_sub_category=None,load_cache=True):\n",
    "        selected_mf=None\n",
    "        selected_ratio=-1\n",
    "        result=pd.DataFrame(columns=['scheme_name', 'benchmark', 'latest NAV- Regular', 'latest NAV- Direct',\\\n",
    "       '1-Year Return(%)- Regular', '1-Year Return(%)- Direct',\\\n",
    "       '3-Year Return(%)- Regular', '3-Year Return(%)- Direct',\\\n",
    "       '5-Year Return(%)- Regular', '5-Year Return(%)- Direct'])\n",
    "        if self.mf_perform_data is None:\n",
    "            self.mf_perform_data=self.mutual_fund_performance(mf_category,mf_sub_category,load_cache)\n",
    "        for mf in self.mf_perform_data[\"scheme_name\"]:\n",
    "            if scheme_name.lower() == mf.lower():\n",
    "                ratio=100\n",
    "            else:\n",
    "                ratio=SequenceMatcher(a=scheme_name.lower(),b=mf.lower()).ratio()\n",
    "            if ratio >selected_ratio:\n",
    "                selected_ratio=ratio\n",
    "                selected_mf=mf \n",
    "                if selected_ratio==100:\n",
    "                    break\n",
    "        if selected_ratio>-1:\n",
    "            result=self.mf_perform_data[self.mf_perform_data[\"scheme_name\"]==selected_mf].drop_duplicates()\n",
    "        return result"
   ]
  },
  {
   "cell_type": "code",
   "execution_count": null,
   "id": "8205293a",
   "metadata": {},
   "outputs": [],
   "source": [
    "load_cache=True\n",
    "mf_category=\"Debt Scheme\"\n",
    "risk=\"Moderate\"\n",
    "mf_sub_category=None\n",
    "top_n=5"
   ]
  },
  {
   "cell_type": "code",
   "execution_count": null,
   "id": "ca7e7090",
   "metadata": {},
   "outputs": [],
   "source": [
    "FILE_NAME=\"mf_data_popular.pkl.bz2\"\n",
    "global mf_df\n",
    "if load_cache==True:\n",
    "    if mf_df is None:\n",
    "        mf_df=pd.read_pickle(FILE_NAME,compression=\"bz2\")\n",
    "else:\n",
    "    mf_df=calculate_popularity(FILE_NAME,user_mf_json)\n",
    "filter_df= mf_df.copy(deep=True)\n",
    "if mf_category is not None:\n",
    "    filter_df=filter_df[filter_df[\"mf_category\"]==mf_category]\n",
    "if mf_sub_category is not None:\n",
    "    filter_df=filter_df[filter_df[\"mf_sub_category\"]==mf_sub_category]\n",
    "if risk is not None:\n",
    "    filter_df=filter_df[filter_df[\"Risk\"]==risk]\n",
    "filter_df=filter_df.sort_values(by=\"rank\",ascending=True).head(top_n)\n",
    "result=get_performance_data(filter_df[\"fund_name\"].to_list(),mf_category=\"Debt Scheme\",risk=\"Moderate\")"
   ]
  },
  {
   "cell_type": "code",
   "execution_count": null,
   "id": "3a340105",
   "metadata": {},
   "outputs": [],
   "source": [
    "result"
   ]
  },
  {
   "cell_type": "code",
   "execution_count": null,
   "id": "fe070413",
   "metadata": {},
   "outputs": [],
   "source": [
    "result[result[\"risk\"]==risk].head(top_n)"
   ]
  },
  {
   "cell_type": "code",
   "execution_count": null,
   "id": "8b98e328",
   "metadata": {},
   "outputs": [],
   "source": []
  }
 ],
 "metadata": {
  "kernelspec": {
   "display_name": "conda_tensorflow_p36",
   "language": "python",
   "name": "conda_tensorflow_p36"
  },
  "language_info": {
   "codemirror_mode": {
    "name": "ipython",
    "version": 3
   },
   "file_extension": ".py",
   "mimetype": "text/x-python",
   "name": "python",
   "nbconvert_exporter": "python",
   "pygments_lexer": "ipython3",
   "version": "3.6.13"
  }
 },
 "nbformat": 4,
 "nbformat_minor": 5
}
