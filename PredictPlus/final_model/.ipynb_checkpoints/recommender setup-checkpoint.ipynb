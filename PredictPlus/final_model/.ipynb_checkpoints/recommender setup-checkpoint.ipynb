{
 "cells": [
  {
   "cell_type": "code",
   "execution_count": 3,
   "id": "2603a624",
   "metadata": {},
   "outputs": [],
   "source": [
    "## Requirements\n",
    "!pip install -q Mftool"
   ]
  },
  {
   "cell_type": "code",
   "execution_count": 5,
   "id": "4d6d8ce7",
   "metadata": {},
   "outputs": [],
   "source": [
    "from mftool import Mftool\n",
    "import pandas as pd\n",
    "import numpy as np"
   ]
  },
  {
   "cell_type": "code",
   "execution_count": 6,
   "id": "ad5bc73e",
   "metadata": {},
   "outputs": [],
   "source": [
    "df = pd.read_csv(\"../mf_data_risk_popularity_rand.csv.zip\",compression=\"zip\")"
   ]
  },
  {
   "cell_type": "code",
   "execution_count": 7,
   "id": "944a7123",
   "metadata": {},
   "outputs": [
    {
     "data": {
      "text/html": [
       "<div>\n",
       "<style scoped>\n",
       "    .dataframe tbody tr th:only-of-type {\n",
       "        vertical-align: middle;\n",
       "    }\n",
       "\n",
       "    .dataframe tbody tr th {\n",
       "        vertical-align: top;\n",
       "    }\n",
       "\n",
       "    .dataframe thead th {\n",
       "        text-align: right;\n",
       "    }\n",
       "</style>\n",
       "<table border=\"1\" class=\"dataframe\">\n",
       "  <thead>\n",
       "    <tr style=\"text-align: right;\">\n",
       "      <th></th>\n",
       "      <th>scheme_code</th>\n",
       "      <th>scheme_name</th>\n",
       "      <th>Risk</th>\n",
       "      <th>nav</th>\n",
       "      <th>scheme_category</th>\n",
       "      <th>scheme_type</th>\n",
       "      <th>scheme_cat</th>\n",
       "      <th>scheme_sub_cat</th>\n",
       "      <th>popularity</th>\n",
       "      <th>rank</th>\n",
       "    </tr>\n",
       "  </thead>\n",
       "  <tbody>\n",
       "    <tr>\n",
       "      <th>0</th>\n",
       "      <td>100033</td>\n",
       "      <td>Aditya Birla Sun Life Equity Advantage Fund -...</td>\n",
       "      <td>Moderate</td>\n",
       "      <td>116.6100</td>\n",
       "      <td>Equity Scheme - Large &amp; Mid Cap Fund</td>\n",
       "      <td>Open Ended Schemes</td>\n",
       "      <td>Equity Scheme</td>\n",
       "      <td>Large &amp; Mid Cap Fund</td>\n",
       "      <td>27</td>\n",
       "      <td>6392.0</td>\n",
       "    </tr>\n",
       "    <tr>\n",
       "      <th>1</th>\n",
       "      <td>100034</td>\n",
       "      <td>Aditya Birla Sun Life Equity Advantage Fund -...</td>\n",
       "      <td>Moderate</td>\n",
       "      <td>83.6600</td>\n",
       "      <td>Equity Scheme - Large &amp; Mid Cap Fund</td>\n",
       "      <td>Open Ended Schemes</td>\n",
       "      <td>Equity Scheme</td>\n",
       "      <td>Large &amp; Mid Cap Fund</td>\n",
       "      <td>22</td>\n",
       "      <td>11298.0</td>\n",
       "    </tr>\n",
       "    <tr>\n",
       "      <th>2</th>\n",
       "      <td>100037</td>\n",
       "      <td>Aditya Birla Sun Life Income Fund - Regular -...</td>\n",
       "      <td>Low to Moderate</td>\n",
       "      <td>10.1147</td>\n",
       "      <td>Debt Scheme - Medium to Long Duration Fund</td>\n",
       "      <td>Open Ended Schemes</td>\n",
       "      <td>Debt Scheme</td>\n",
       "      <td>Medium to Long Duration Fund</td>\n",
       "      <td>28</td>\n",
       "      <td>5383.0</td>\n",
       "    </tr>\n",
       "    <tr>\n",
       "      <th>3</th>\n",
       "      <td>100038</td>\n",
       "      <td>Aditya Birla Sun Life Income Fund - Growth - ...</td>\n",
       "      <td>Moderately High</td>\n",
       "      <td>28.9093</td>\n",
       "      <td>Debt Scheme - Medium to Long Duration Fund</td>\n",
       "      <td>Open Ended Schemes</td>\n",
       "      <td>Debt Scheme</td>\n",
       "      <td>Medium to Long Duration Fund</td>\n",
       "      <td>25</td>\n",
       "      <td>8528.0</td>\n",
       "    </tr>\n",
       "    <tr>\n",
       "      <th>4</th>\n",
       "      <td>100041</td>\n",
       "      <td>Aditya Birla Sun Life Liquid Fund -Institutio...</td>\n",
       "      <td>Moderately High</td>\n",
       "      <td>10.8023</td>\n",
       "      <td>Debt Scheme - Liquid Fund</td>\n",
       "      <td>Open Ended Schemes</td>\n",
       "      <td>Debt Scheme</td>\n",
       "      <td>Liquid Fund</td>\n",
       "      <td>26</td>\n",
       "      <td>7459.0</td>\n",
       "    </tr>\n",
       "  </tbody>\n",
       "</table>\n",
       "</div>"
      ],
      "text/plain": [
       "   scheme_code                                        scheme_name  \\\n",
       "0       100033   Aditya Birla Sun Life Equity Advantage Fund -...   \n",
       "1       100034   Aditya Birla Sun Life Equity Advantage Fund -...   \n",
       "2       100037   Aditya Birla Sun Life Income Fund - Regular -...   \n",
       "3       100038   Aditya Birla Sun Life Income Fund - Growth - ...   \n",
       "4       100041   Aditya Birla Sun Life Liquid Fund -Institutio...   \n",
       "\n",
       "              Risk       nav                             scheme_category  \\\n",
       "0         Moderate  116.6100        Equity Scheme - Large & Mid Cap Fund   \n",
       "1         Moderate   83.6600        Equity Scheme - Large & Mid Cap Fund   \n",
       "2  Low to Moderate   10.1147  Debt Scheme - Medium to Long Duration Fund   \n",
       "3  Moderately High   28.9093  Debt Scheme - Medium to Long Duration Fund   \n",
       "4  Moderately High   10.8023                   Debt Scheme - Liquid Fund   \n",
       "\n",
       "          scheme_type      scheme_cat                 scheme_sub_cat  \\\n",
       "0  Open Ended Schemes  Equity Scheme            Large & Mid Cap Fund   \n",
       "1  Open Ended Schemes  Equity Scheme            Large & Mid Cap Fund   \n",
       "2  Open Ended Schemes    Debt Scheme    Medium to Long Duration Fund   \n",
       "3  Open Ended Schemes    Debt Scheme    Medium to Long Duration Fund   \n",
       "4  Open Ended Schemes    Debt Scheme                     Liquid Fund   \n",
       "\n",
       "   popularity     rank  \n",
       "0          27   6392.0  \n",
       "1          22  11298.0  \n",
       "2          28   5383.0  \n",
       "3          25   8528.0  \n",
       "4          26   7459.0  "
      ]
     },
     "execution_count": 7,
     "metadata": {},
     "output_type": "execute_result"
    }
   ],
   "source": [
    "df.head()"
   ]
  },
  {
   "cell_type": "code",
   "execution_count": 8,
   "id": "95990215",
   "metadata": {},
   "outputs": [],
   "source": [
    "obj = Mftool()"
   ]
  },
  {
   "cell_type": "code",
   "execution_count": 42,
   "id": "af4559f9",
   "metadata": {},
   "outputs": [],
   "source": [
    "dict_eq_fund = {\"fund_type\":[],\"scheme_name\":[]}"
   ]
  },
  {
   "cell_type": "code",
   "execution_count": 43,
   "id": "243e0331",
   "metadata": {},
   "outputs": [],
   "source": [
    "equity_funds=obj.get_open_ended_equity_scheme_performance(as_json=False)\n",
    "\n",
    "for eq in equity_funds.keys():\n",
    "    for mf in equity_funds[eq]:\n",
    "        dict_eq_fund[\"fund_type\"].append(eq)\n",
    "        dict_eq_fund[\"scheme_name\"].append(mf[\"scheme_name\"])"
   ]
  },
  {
   "cell_type": "code",
   "execution_count": 44,
   "id": "ee5f1144",
   "metadata": {},
   "outputs": [],
   "source": [
    "equity_funds_df = pd.DataFrame(dict_eq_fund)"
   ]
  },
  {
   "cell_type": "code",
   "execution_count": null,
   "id": "800d1507",
   "metadata": {},
   "outputs": [],
   "source": [
    "equity_funds_df.head()"
   ]
  },
  {
   "cell_type": "code",
   "execution_count": null,
   "id": "761b88ef",
   "metadata": {},
   "outputs": [],
   "source": [
    "equity_funds_df.to_csv(\"equity_funds.csv.zip\",compression=\"zip\",index=False)"
   ]
  },
  {
   "cell_type": "code",
   "execution_count": 47,
   "id": "f5b3761a",
   "metadata": {},
   "outputs": [],
   "source": [
    "dict_eq_fund = {\"fund_type\":[],\"scheme_name\":[]}\n",
    "debt_scheme= obj.get_open_ended_debt_scheme_performance(as_json=False)\n",
    "\n",
    "for eq in debt_scheme.keys():\n",
    "    for mf in debt_scheme[eq]:\n",
    "        dict_eq_fund[\"fund_type\"].append(eq)\n",
    "        dict_eq_fund[\"scheme_name\"].append(mf[\"scheme_name\"])"
   ]
  },
  {
   "cell_type": "code",
   "execution_count": 48,
   "id": "d0269a4f",
   "metadata": {},
   "outputs": [],
   "source": [
    "debt_funds_df = pd.DataFrame(dict_eq_fund)"
   ]
  },
  {
   "cell_type": "code",
   "execution_count": 68,
   "id": "d999ddbc",
   "metadata": {},
   "outputs": [],
   "source": [
    "dict_eq_fund = {\"fund_type\":[],\"scheme_name\":[]}\n",
    "hybrid = obj.get_open_ended_hybrid_scheme_performance(as_json=False)"
   ]
  },
  {
   "cell_type": "code",
   "execution_count": 72,
   "id": "4a2a8e85",
   "metadata": {},
   "outputs": [
    {
     "data": {
      "text/plain": [
       "\"Aditya Birla Sun Life Equity Hybrid '95 Fund\""
      ]
     },
     "execution_count": 72,
     "metadata": {},
     "output_type": "execute_result"
    }
   ],
   "source": [
    "hybrid[\"Aggressive Hybrid\"][0][\"scheme_name\"]"
   ]
  },
  {
   "cell_type": "code",
   "execution_count": null,
   "id": "4db36e53",
   "metadata": {},
   "outputs": [],
   "source": []
  },
  {
   "cell_type": "code",
   "execution_count": null,
   "id": "24e2094a",
   "metadata": {},
   "outputs": [],
   "source": [
    "mf_list=[]\n",
    "for eq in hybrid.keys():\n",
    "    for idx,mf in enumerate(hybrid[eq]):\n",
    "        try:\n",
    "            dict_eq_fund[\"fund_type\"].append(eq)\n",
    "            print(mf.values())\n",
    "        except Exception as ex:\n",
    "            print(idx,ex)\n",
    "            print(mf)\n",
    "            "
   ]
  },
  {
   "cell_type": "raw",
   "id": "dcc05b3d",
   "metadata": {},
   "source": [
    "dict_eq_fund"
   ]
  },
  {
   "cell_type": "code",
   "execution_count": 54,
   "id": "d9c0e841",
   "metadata": {},
   "outputs": [],
   "source": [
    "soln = obj.get_open_ended_solution_scheme_performance(as_json=False)"
   ]
  },
  {
   "cell_type": "code",
   "execution_count": 81,
   "id": "4c97d5b0",
   "metadata": {},
   "outputs": [],
   "source": [
    "dict_eq_fund = {\"fund_type\":[],\"scheme_name\":[]}\n",
    "\n",
    "for eq in soln.keys():\n",
    "    for mf in soln[eq]:\n",
    "        dict_eq_fund[\"fund_type\"].append(eq)\n",
    "        dict_eq_fund[\"scheme_name\"].append(mf[\"scheme_name\"])"
   ]
  },
  {
   "cell_type": "code",
   "execution_count": 82,
   "id": "33af66e3",
   "metadata": {},
   "outputs": [],
   "source": [
    "soln_funds_df = pd.DataFrame(dict_eq_fund)"
   ]
  },
  {
   "cell_type": "code",
   "execution_count": 86,
   "id": "be21324e",
   "metadata": {},
   "outputs": [
    {
     "data": {
      "text/html": [
       "<div>\n",
       "<style scoped>\n",
       "    .dataframe tbody tr th:only-of-type {\n",
       "        vertical-align: middle;\n",
       "    }\n",
       "\n",
       "    .dataframe tbody tr th {\n",
       "        vertical-align: top;\n",
       "    }\n",
       "\n",
       "    .dataframe thead th {\n",
       "        text-align: right;\n",
       "    }\n",
       "</style>\n",
       "<table border=\"1\" class=\"dataframe\">\n",
       "  <thead>\n",
       "    <tr style=\"text-align: right;\">\n",
       "      <th></th>\n",
       "      <th>fund_type</th>\n",
       "      <th>scheme_name</th>\n",
       "    </tr>\n",
       "  </thead>\n",
       "  <tbody>\n",
       "    <tr>\n",
       "      <th>0</th>\n",
       "      <td>Children's</td>\n",
       "      <td>Aditya Birla Sun Life Bal Bhavishya Yojna</td>\n",
       "    </tr>\n",
       "    <tr>\n",
       "      <th>1</th>\n",
       "      <td>Children's</td>\n",
       "      <td>Axis Children's Gift Fund</td>\n",
       "    </tr>\n",
       "    <tr>\n",
       "      <th>2</th>\n",
       "      <td>Children's</td>\n",
       "      <td>HDFC Children's Gift Fund</td>\n",
       "    </tr>\n",
       "    <tr>\n",
       "      <th>3</th>\n",
       "      <td>Children's</td>\n",
       "      <td>ICICI Prudential Child Care Fund-Gift Plan</td>\n",
       "    </tr>\n",
       "    <tr>\n",
       "      <th>4</th>\n",
       "      <td>Children's</td>\n",
       "      <td>LIC MF Children's Gift Fund</td>\n",
       "    </tr>\n",
       "  </tbody>\n",
       "</table>\n",
       "</div>"
      ],
      "text/plain": [
       "    fund_type                                 scheme_name\n",
       "0  Children's   Aditya Birla Sun Life Bal Bhavishya Yojna\n",
       "1  Children's                   Axis Children's Gift Fund\n",
       "2  Children's                   HDFC Children's Gift Fund\n",
       "3  Children's  ICICI Prudential Child Care Fund-Gift Plan\n",
       "4  Children's                 LIC MF Children's Gift Fund"
      ]
     },
     "execution_count": 86,
     "metadata": {},
     "output_type": "execute_result"
    }
   ],
   "source": [
    "soln_funds_df.head()"
   ]
  },
  {
   "cell_type": "code",
   "execution_count": 55,
   "id": "0fbac16c",
   "metadata": {},
   "outputs": [],
   "source": [
    "other = obj.get_open_ended_other_scheme_performance(as_json=False)"
   ]
  },
  {
   "cell_type": "code",
   "execution_count": 83,
   "id": "b952a7f3",
   "metadata": {},
   "outputs": [],
   "source": [
    "dict_eq_fund = {\"fund_type\":[],\"scheme_name\":[]}\n",
    "\n",
    "for eq in other.keys():\n",
    "    for mf in other[eq]:\n",
    "        dict_eq_fund[\"fund_type\"].append(eq)\n",
    "        dict_eq_fund[\"scheme_name\"].append(mf[\"scheme_name\"])"
   ]
  },
  {
   "cell_type": "code",
   "execution_count": 84,
   "id": "00ea0550",
   "metadata": {},
   "outputs": [],
   "source": [
    "other_funds_df = pd.DataFrame(dict_eq_fund)"
   ]
  },
  {
   "cell_type": "code",
   "execution_count": 85,
   "id": "0e3adb7d",
   "metadata": {},
   "outputs": [
    {
     "data": {
      "text/html": [
       "<div>\n",
       "<style scoped>\n",
       "    .dataframe tbody tr th:only-of-type {\n",
       "        vertical-align: middle;\n",
       "    }\n",
       "\n",
       "    .dataframe tbody tr th {\n",
       "        vertical-align: top;\n",
       "    }\n",
       "\n",
       "    .dataframe thead th {\n",
       "        text-align: right;\n",
       "    }\n",
       "</style>\n",
       "<table border=\"1\" class=\"dataframe\">\n",
       "  <thead>\n",
       "    <tr style=\"text-align: right;\">\n",
       "      <th></th>\n",
       "      <th>fund_type</th>\n",
       "      <th>scheme_name</th>\n",
       "    </tr>\n",
       "  </thead>\n",
       "  <tbody>\n",
       "    <tr>\n",
       "      <th>0</th>\n",
       "      <td>Index Funds/ETFs</td>\n",
       "      <td>Aditya Birla Sun Life Banking ETF</td>\n",
       "    </tr>\n",
       "    <tr>\n",
       "      <th>1</th>\n",
       "      <td>Index Funds/ETFs</td>\n",
       "      <td>Aditya Birla Sun Life Gold ETF</td>\n",
       "    </tr>\n",
       "    <tr>\n",
       "      <th>2</th>\n",
       "      <td>Index Funds/ETFs</td>\n",
       "      <td>Aditya Birla Sun Life Index Fund</td>\n",
       "    </tr>\n",
       "    <tr>\n",
       "      <th>3</th>\n",
       "      <td>Index Funds/ETFs</td>\n",
       "      <td>Aditya Birla Sun Life Nifty ETF</td>\n",
       "    </tr>\n",
       "    <tr>\n",
       "      <th>4</th>\n",
       "      <td>Index Funds/ETFs</td>\n",
       "      <td>Aditya Birla Sun Life Nifty Next 50 ETF</td>\n",
       "    </tr>\n",
       "  </tbody>\n",
       "</table>\n",
       "</div>"
      ],
      "text/plain": [
       "          fund_type                              scheme_name\n",
       "0  Index Funds/ETFs        Aditya Birla Sun Life Banking ETF\n",
       "1  Index Funds/ETFs           Aditya Birla Sun Life Gold ETF\n",
       "2  Index Funds/ETFs         Aditya Birla Sun Life Index Fund\n",
       "3  Index Funds/ETFs          Aditya Birla Sun Life Nifty ETF\n",
       "4  Index Funds/ETFs  Aditya Birla Sun Life Nifty Next 50 ETF"
      ]
     },
     "execution_count": 85,
     "metadata": {},
     "output_type": "execute_result"
    }
   ],
   "source": [
    "other_funds_df.head()"
   ]
  },
  {
   "cell_type": "code",
   "execution_count": null,
   "id": "b5cdcbe3",
   "metadata": {},
   "outputs": [],
   "source": []
  }
 ],
 "metadata": {
  "kernelspec": {
   "display_name": "conda_tensorflow_p36",
   "language": "python",
   "name": "conda_tensorflow_p36"
  },
  "language_info": {
   "codemirror_mode": {
    "name": "ipython",
    "version": 3
   },
   "file_extension": ".py",
   "mimetype": "text/x-python",
   "name": "python",
   "nbconvert_exporter": "python",
   "pygments_lexer": "ipython3",
   "version": "3.6.13"
  }
 },
 "nbformat": 4,
 "nbformat_minor": 5
}
