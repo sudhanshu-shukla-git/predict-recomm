{
 "cells": [
  {
   "cell_type": "code",
   "execution_count": 1,
   "id": "59378f54",
   "metadata": {},
   "outputs": [],
   "source": [
    "import pandas as pd\n",
    "from mftool import Mftool\n",
    "from mf_performance_details import mf_performance\n",
    "from tqdm.notebook import tqdm"
   ]
  },
  {
   "cell_type": "code",
   "execution_count": 2,
   "id": "54487440",
   "metadata": {},
   "outputs": [],
   "source": [
    "mf_df=pd.read_pickle(\"mf_data_popular.pkl.bz2\",compression=\"bz2\")"
   ]
  },
  {
   "cell_type": "code",
   "execution_count": 3,
   "id": "e3dfb67a",
   "metadata": {},
   "outputs": [],
   "source": [
    "# mf_df.to_pickle(\"mf_data_popular.pkl.bz2\",compression=\"bz2\")"
   ]
  },
  {
   "cell_type": "code",
   "execution_count": 4,
   "id": "0059f89a",
   "metadata": {},
   "outputs": [
    {
     "data": {
      "text/html": [
       "<div>\n",
       "<style scoped>\n",
       "    .dataframe tbody tr th:only-of-type {\n",
       "        vertical-align: middle;\n",
       "    }\n",
       "\n",
       "    .dataframe tbody tr th {\n",
       "        vertical-align: top;\n",
       "    }\n",
       "\n",
       "    .dataframe thead th {\n",
       "        text-align: right;\n",
       "    }\n",
       "</style>\n",
       "<table border=\"1\" class=\"dataframe\">\n",
       "  <thead>\n",
       "    <tr style=\"text-align: right;\">\n",
       "      <th></th>\n",
       "      <th>scheme_code</th>\n",
       "      <th>scheme_name</th>\n",
       "      <th>Risk</th>\n",
       "      <th>scheme_category</th>\n",
       "      <th>popularity</th>\n",
       "      <th>rank</th>\n",
       "      <th>mf_category</th>\n",
       "      <th>mf_sub_category</th>\n",
       "      <th>fund_name</th>\n",
       "    </tr>\n",
       "  </thead>\n",
       "  <tbody>\n",
       "    <tr>\n",
       "      <th>0</th>\n",
       "      <td>100033</td>\n",
       "      <td>Aditya Birla Sun Life Equity Advantage Fund -...</td>\n",
       "      <td>Moderate</td>\n",
       "      <td>Equity Scheme - Large &amp; Mid Cap Fund</td>\n",
       "      <td>27</td>\n",
       "      <td>6392.0</td>\n",
       "      <td>Equity Scheme</td>\n",
       "      <td>Large &amp; Mid Cap</td>\n",
       "      <td>Aditya Birla Sun Life Equity Advantage Fund</td>\n",
       "    </tr>\n",
       "    <tr>\n",
       "      <th>1</th>\n",
       "      <td>100034</td>\n",
       "      <td>Aditya Birla Sun Life Equity Advantage Fund -...</td>\n",
       "      <td>Moderate</td>\n",
       "      <td>Equity Scheme - Large &amp; Mid Cap Fund</td>\n",
       "      <td>22</td>\n",
       "      <td>11298.0</td>\n",
       "      <td>Equity Scheme</td>\n",
       "      <td>Large &amp; Mid Cap</td>\n",
       "      <td>Aditya Birla Sun Life Equity Advantage Fund</td>\n",
       "    </tr>\n",
       "    <tr>\n",
       "      <th>2</th>\n",
       "      <td>100037</td>\n",
       "      <td>Aditya Birla Sun Life Income Fund - Regular -...</td>\n",
       "      <td>Low to Moderate</td>\n",
       "      <td>Debt Scheme - Medium to Long Duration Fund</td>\n",
       "      <td>28</td>\n",
       "      <td>5383.0</td>\n",
       "      <td>Debt Scheme</td>\n",
       "      <td>Medium to Long Duration</td>\n",
       "      <td>Aditya Birla Sun Life Income Fund</td>\n",
       "    </tr>\n",
       "    <tr>\n",
       "      <th>3</th>\n",
       "      <td>100038</td>\n",
       "      <td>Aditya Birla Sun Life Income Fund - Growth - ...</td>\n",
       "      <td>Moderately High</td>\n",
       "      <td>Debt Scheme - Medium to Long Duration Fund</td>\n",
       "      <td>25</td>\n",
       "      <td>8528.0</td>\n",
       "      <td>Debt Scheme</td>\n",
       "      <td>Medium to Long Duration</td>\n",
       "      <td>Aditya Birla Sun Life Income Fund</td>\n",
       "    </tr>\n",
       "    <tr>\n",
       "      <th>4</th>\n",
       "      <td>100041</td>\n",
       "      <td>Aditya Birla Sun Life Liquid Fund -Institutio...</td>\n",
       "      <td>Moderately High</td>\n",
       "      <td>Debt Scheme - Liquid Fund</td>\n",
       "      <td>26</td>\n",
       "      <td>7459.0</td>\n",
       "      <td>Debt Scheme</td>\n",
       "      <td>Liquid</td>\n",
       "      <td>Aditya Birla Sun Life Liquid Fund</td>\n",
       "    </tr>\n",
       "  </tbody>\n",
       "</table>\n",
       "</div>"
      ],
      "text/plain": [
       "   scheme_code                                        scheme_name  \\\n",
       "0       100033   Aditya Birla Sun Life Equity Advantage Fund -...   \n",
       "1       100034   Aditya Birla Sun Life Equity Advantage Fund -...   \n",
       "2       100037   Aditya Birla Sun Life Income Fund - Regular -...   \n",
       "3       100038   Aditya Birla Sun Life Income Fund - Growth - ...   \n",
       "4       100041   Aditya Birla Sun Life Liquid Fund -Institutio...   \n",
       "\n",
       "              Risk                             scheme_category  popularity  \\\n",
       "0         Moderate        Equity Scheme - Large & Mid Cap Fund          27   \n",
       "1         Moderate        Equity Scheme - Large & Mid Cap Fund          22   \n",
       "2  Low to Moderate  Debt Scheme - Medium to Long Duration Fund          28   \n",
       "3  Moderately High  Debt Scheme - Medium to Long Duration Fund          25   \n",
       "4  Moderately High                   Debt Scheme - Liquid Fund          26   \n",
       "\n",
       "      rank    mf_category          mf_sub_category  \\\n",
       "0   6392.0  Equity Scheme          Large & Mid Cap   \n",
       "1  11298.0  Equity Scheme          Large & Mid Cap   \n",
       "2   5383.0    Debt Scheme  Medium to Long Duration   \n",
       "3   8528.0    Debt Scheme  Medium to Long Duration   \n",
       "4   7459.0    Debt Scheme                   Liquid   \n",
       "\n",
       "                                     fund_name  \n",
       "0  Aditya Birla Sun Life Equity Advantage Fund  \n",
       "1  Aditya Birla Sun Life Equity Advantage Fund  \n",
       "2            Aditya Birla Sun Life Income Fund  \n",
       "3            Aditya Birla Sun Life Income Fund  \n",
       "4            Aditya Birla Sun Life Liquid Fund  "
      ]
     },
     "execution_count": 4,
     "metadata": {},
     "output_type": "execute_result"
    }
   ],
   "source": [
    "mf_df.head()"
   ]
  },
  {
   "cell_type": "code",
   "execution_count": 5,
   "id": "71d1c261",
   "metadata": {},
   "outputs": [],
   "source": [
    "# dict_fund={\"fund_name\":[],\"risk\":[]}"
   ]
  },
  {
   "cell_type": "code",
   "execution_count": 6,
   "id": "9574af1b",
   "metadata": {},
   "outputs": [],
   "source": [
    "# mf_risk_data=list(set(mf_df[\"fund_name\"]))\n",
    "# for mf in mf_risk_data:\n",
    "#     risk=mf_df[mf_df[\"fund_name\"]==mf][\"Risk\"].values[0]\n",
    "#     dict_fund[\"fund_name\"].append(mf)\n",
    "#     dict_fund[\"risk\"].append(risk)"
   ]
  },
  {
   "cell_type": "code",
   "execution_count": 7,
   "id": "41acc837",
   "metadata": {},
   "outputs": [],
   "source": [
    "# pd.DataFrame(dict_fund).to_pickle(\"fund_risk_score.pkl.bz2\",compression=\"bz2\")"
   ]
  },
  {
   "cell_type": "code",
   "execution_count": 8,
   "id": "2d5a8392",
   "metadata": {},
   "outputs": [],
   "source": [
    "def get_response(df):\n",
    "    try:\n",
    "        json = df.to_json(orient='records')\n",
    "        return Response(json, mimetype='application/json')\n",
    "    except Exception as ex:\n",
    "        print(ex,json)\n",
    "        return get_exception_response(ex)"
   ]
  },
  {
   "cell_type": "code",
   "execution_count": 9,
   "id": "59bcc802",
   "metadata": {},
   "outputs": [],
   "source": [
    "def get_exception_response(ex):\n",
    "    return Response(ex,500)"
   ]
  },
  {
   "cell_type": "code",
   "execution_count": 10,
   "id": "816e9781",
   "metadata": {},
   "outputs": [],
   "source": [
    "# def performance_based_recommendation(mf_category=None,mf_sub_category=None,risk=\"Moderate\",top_n=5,load_cache=True):\n",
    "#     try:\n",
    "        \n",
    "\n",
    "#         top_funds[\"risk\"]= top_funds[\"scheme_name\"].apply(lambda x: get_mf_risk(x))\n",
    "#         return get_response(top_funds[top_funds[\"risk\"]==risk].head(top_n))\n",
    "#     except Exception as ex:\n",
    "#         return get_exception_response(\"Error occured, please try again.\")"
   ]
  },
  {
   "cell_type": "code",
   "execution_count": 11,
   "id": "01101c20",
   "metadata": {},
   "outputs": [],
   "source": [
    "def get_popularity_based_funds(mf_category=None,mf_sub_category=None,risk=None,top_n=5,load_cache=True,user_mf_json=None):\n",
    "    FILE_NAME=\"mf_data_popular.pkl.bz2\"\n",
    "    global mf_df\n",
    "    if load_cache==True:\n",
    "        if mf_df is None:\n",
    "            mf_df=pd.read_pickle(FILE_NAME,compression=\"bz2\")\n",
    "    else:\n",
    "        mf_df=calculate_popularity(FILE_NAME,user_mf_json)\n",
    "    filter_df= mf_df.copy(deep=True)\n",
    "    if mf_category is not None:\n",
    "        filter_df=filter_df[filter_df[\"mf_category\"]==mf_category]\n",
    "    if mf_sub_category is not None:\n",
    "        filter_df=filter_df[filter_df[\"mf_sub_category\"]==mf_sub_category]    \n",
    "    \n",
    "    mf_perf=mf_performance()\n",
    "    suggested_mf=list(set(filter_df[\"fund_name\"]))\n",
    "    if risk is not None:\n",
    "        \n",
    "        filter_df[\"risk\"]= filter_df[\"scheme_name\"].apply(lambda x: mf_perf.get_mf_risk(x))\n",
    "        suggested_mf=list(set(filter_df[filter_df[\"risk\"]==risk][\"fund_name\"]))[:5] \n",
    "    \n",
    "    result=get_performance_data(suggested_mf,mf_category,mf_sub_category,risk,load_cache)\n",
    "    #result[\"risk\"]= result[\"scheme_name\"].apply(lambda x: mf_perf.get_mf_risk(x))\n",
    "        \n",
    "    return result.head(top_n)"
   ]
  },
  {
   "cell_type": "code",
   "execution_count": 12,
   "id": "4d1c4b50",
   "metadata": {},
   "outputs": [],
   "source": [
    "def calculate_popularity(mf_data_file,user_mf_json):\n",
    "    global mf_df\n",
    "    if mf_df is None:\n",
    "            mf_df=pd.read_pickle(mf_data_file,compression=\"bz2\")   \n",
    "    user_df=pd.read_json(user_mf_json)\n",
    "    for index,mf in mf_df[\"scheme_code\"].items():\n",
    "        mf_df[\"popularity\"].iloc[index]=len(user_df[user_df[\"mf_id\"]==mf])\n",
    "    mf_df['rank'] = mf_df['popularity'].rank(ascending = 0, method = 'first')\n",
    "    return mf_df"
   ]
  },
  {
   "cell_type": "code",
   "execution_count": 13,
   "id": "f52abba9",
   "metadata": {},
   "outputs": [],
   "source": [
    "def get_mf_details(scheme_name,mf_category=None,mf_sub_category=None,load_cache=True):\n",
    "        selected_mf=None\n",
    "        selected_ratio=-1\n",
    "        result=pd.DataFrame(columns=['scheme_name', 'benchmark', 'latest NAV- Regular', 'latest NAV- Direct',\\\n",
    "       '1-Year Return(%)- Regular', '1-Year Return(%)- Direct',\\\n",
    "       '3-Year Return(%)- Regular', '3-Year Return(%)- Direct',\\\n",
    "       '5-Year Return(%)- Regular', '5-Year Return(%)- Direct'])\n",
    "\n",
    "        for mf in mf_data[\"scheme_name\"]:\n",
    "            if scheme_name.lower() == mf.lower():\n",
    "                ratio=100\n",
    "            else:\n",
    "                ratio=SequenceMatcher(a=scheme_name.lower(),b=mf.lower()).ratio()\n",
    "            if ratio >selected_ratio:\n",
    "                selected_ratio=ratio\n",
    "                selected_mf=mf \n",
    "                if selected_ratio==100:\n",
    "                    break\n",
    "        if selected_ratio>-1:\n",
    "            result=mf_data[mf_data[\"scheme_name\"]==selected_mf].drop_duplicates()\n",
    "        return result"
   ]
  },
  {
   "cell_type": "code",
   "execution_count": 14,
   "id": "867c8805",
   "metadata": {},
   "outputs": [],
   "source": [
    "def get_performance_data(fund_names,mf_category=None,mf_sub_category=None,risk=None,load_cache=True):\n",
    "    mf_perf=mf_performance()\n",
    "    df_list=[]\n",
    "    \n",
    "    for fund in tqdm(fund_names):\n",
    "        df_perf=mf_perf.get_mf_details(fund,mf_category,mf_sub_category,risk,load_cache)\n",
    "        df_list.append(df_perf)\n",
    "    final_df=pd.concat(df_list)\n",
    "    final_df=pd.concat(df_list).reset_index(drop=True)\n",
    "    \n",
    "    return final_df"
   ]
  },
  {
   "cell_type": "code",
   "execution_count": 15,
   "id": "8dc4b22c",
   "metadata": {},
   "outputs": [
    {
     "data": {
      "application/vnd.jupyter.widget-view+json": {
       "model_id": "38de182df7cb41bab9d1352bddce4eed",
       "version_major": 2,
       "version_minor": 0
      },
      "text/plain": [
       "  0%|          | 0/5 [00:00<?, ?it/s]"
      ]
     },
     "metadata": {},
     "output_type": "display_data"
    },
    {
     "ename": "ValueError",
     "evalue": "Wrong number of items passed 5, placement implies 1",
     "output_type": "error",
     "traceback": [
      "\u001b[0;31m---------------------------------------------------------------------------\u001b[0m",
      "\u001b[0;31mKeyError\u001b[0m                                  Traceback (most recent call last)",
      "\u001b[0;32m~/anaconda3/envs/tensorflow_p36/lib/python3.6/site-packages/pandas/core/indexes/base.py\u001b[0m in \u001b[0;36mget_loc\u001b[0;34m(self, key, method, tolerance)\u001b[0m\n\u001b[1;32m   2897\u001b[0m             \u001b[0;32mtry\u001b[0m\u001b[0;34m:\u001b[0m\u001b[0;34m\u001b[0m\u001b[0;34m\u001b[0m\u001b[0m\n\u001b[0;32m-> 2898\u001b[0;31m                 \u001b[0;32mreturn\u001b[0m \u001b[0mself\u001b[0m\u001b[0;34m.\u001b[0m\u001b[0m_engine\u001b[0m\u001b[0;34m.\u001b[0m\u001b[0mget_loc\u001b[0m\u001b[0;34m(\u001b[0m\u001b[0mcasted_key\u001b[0m\u001b[0;34m)\u001b[0m\u001b[0;34m\u001b[0m\u001b[0;34m\u001b[0m\u001b[0m\n\u001b[0m\u001b[1;32m   2899\u001b[0m             \u001b[0;32mexcept\u001b[0m \u001b[0mKeyError\u001b[0m \u001b[0;32mas\u001b[0m \u001b[0merr\u001b[0m\u001b[0;34m:\u001b[0m\u001b[0;34m\u001b[0m\u001b[0;34m\u001b[0m\u001b[0m\n",
      "\u001b[0;32mpandas/_libs/index.pyx\u001b[0m in \u001b[0;36mpandas._libs.index.IndexEngine.get_loc\u001b[0;34m()\u001b[0m\n",
      "\u001b[0;32mpandas/_libs/index.pyx\u001b[0m in \u001b[0;36mpandas._libs.index.IndexEngine.get_loc\u001b[0;34m()\u001b[0m\n",
      "\u001b[0;32mpandas/_libs/hashtable_class_helper.pxi\u001b[0m in \u001b[0;36mpandas._libs.hashtable.PyObjectHashTable.get_item\u001b[0;34m()\u001b[0m\n",
      "\u001b[0;32mpandas/_libs/hashtable_class_helper.pxi\u001b[0m in \u001b[0;36mpandas._libs.hashtable.PyObjectHashTable.get_item\u001b[0;34m()\u001b[0m\n",
      "\u001b[0;31mKeyError\u001b[0m: 'risk'",
      "\nThe above exception was the direct cause of the following exception:\n",
      "\u001b[0;31mKeyError\u001b[0m                                  Traceback (most recent call last)",
      "\u001b[0;32m~/anaconda3/envs/tensorflow_p36/lib/python3.6/site-packages/pandas/core/generic.py\u001b[0m in \u001b[0;36m_set_item\u001b[0;34m(self, key, value)\u001b[0m\n\u001b[1;32m   3575\u001b[0m         \u001b[0;32mtry\u001b[0m\u001b[0;34m:\u001b[0m\u001b[0;34m\u001b[0m\u001b[0;34m\u001b[0m\u001b[0m\n\u001b[0;32m-> 3576\u001b[0;31m             \u001b[0mloc\u001b[0m \u001b[0;34m=\u001b[0m \u001b[0mself\u001b[0m\u001b[0;34m.\u001b[0m\u001b[0m_info_axis\u001b[0m\u001b[0;34m.\u001b[0m\u001b[0mget_loc\u001b[0m\u001b[0;34m(\u001b[0m\u001b[0mkey\u001b[0m\u001b[0;34m)\u001b[0m\u001b[0;34m\u001b[0m\u001b[0;34m\u001b[0m\u001b[0m\n\u001b[0m\u001b[1;32m   3577\u001b[0m         \u001b[0;32mexcept\u001b[0m \u001b[0mKeyError\u001b[0m\u001b[0;34m:\u001b[0m\u001b[0;34m\u001b[0m\u001b[0;34m\u001b[0m\u001b[0m\n",
      "\u001b[0;32m~/anaconda3/envs/tensorflow_p36/lib/python3.6/site-packages/pandas/core/indexes/base.py\u001b[0m in \u001b[0;36mget_loc\u001b[0;34m(self, key, method, tolerance)\u001b[0m\n\u001b[1;32m   2899\u001b[0m             \u001b[0;32mexcept\u001b[0m \u001b[0mKeyError\u001b[0m \u001b[0;32mas\u001b[0m \u001b[0merr\u001b[0m\u001b[0;34m:\u001b[0m\u001b[0;34m\u001b[0m\u001b[0;34m\u001b[0m\u001b[0m\n\u001b[0;32m-> 2900\u001b[0;31m                 \u001b[0;32mraise\u001b[0m \u001b[0mKeyError\u001b[0m\u001b[0;34m(\u001b[0m\u001b[0mkey\u001b[0m\u001b[0;34m)\u001b[0m \u001b[0;32mfrom\u001b[0m \u001b[0merr\u001b[0m\u001b[0;34m\u001b[0m\u001b[0;34m\u001b[0m\u001b[0m\n\u001b[0m\u001b[1;32m   2901\u001b[0m \u001b[0;34m\u001b[0m\u001b[0m\n",
      "\u001b[0;31mKeyError\u001b[0m: 'risk'",
      "\nDuring handling of the above exception, another exception occurred:\n",
      "\u001b[0;31mValueError\u001b[0m                                Traceback (most recent call last)",
      "\u001b[0;32m<ipython-input-15-f1df7212cde6>\u001b[0m in \u001b[0;36m<module>\u001b[0;34m\u001b[0m\n\u001b[0;32m----> 1\u001b[0;31m \u001b[0mdf_data\u001b[0m\u001b[0;34m=\u001b[0m\u001b[0mget_popularity_based_funds\u001b[0m\u001b[0;34m(\u001b[0m\u001b[0mmf_category\u001b[0m\u001b[0;34m=\u001b[0m\u001b[0;34m\"Debt Scheme\"\u001b[0m\u001b[0;34m,\u001b[0m\u001b[0mrisk\u001b[0m\u001b[0;34m=\u001b[0m\u001b[0;34m\"Moderate\"\u001b[0m\u001b[0;34m)\u001b[0m\u001b[0;34m\u001b[0m\u001b[0;34m\u001b[0m\u001b[0m\n\u001b[0m",
      "\u001b[0;32m<ipython-input-11-177a7b80750a>\u001b[0m in \u001b[0;36mget_popularity_based_funds\u001b[0;34m(mf_category, mf_sub_category, risk, top_n, load_cache, user_mf_json)\u001b[0m\n\u001b[1;32m     21\u001b[0m \u001b[0;34m\u001b[0m\u001b[0m\n\u001b[1;32m     22\u001b[0m     \u001b[0mresult\u001b[0m\u001b[0;34m=\u001b[0m\u001b[0mget_performance_data\u001b[0m\u001b[0;34m(\u001b[0m\u001b[0msuggested_mf\u001b[0m\u001b[0;34m,\u001b[0m\u001b[0mmf_category\u001b[0m\u001b[0;34m,\u001b[0m\u001b[0mmf_sub_category\u001b[0m\u001b[0;34m,\u001b[0m\u001b[0mrisk\u001b[0m\u001b[0;34m,\u001b[0m\u001b[0mload_cache\u001b[0m\u001b[0;34m)\u001b[0m\u001b[0;34m\u001b[0m\u001b[0;34m\u001b[0m\u001b[0m\n\u001b[0;32m---> 23\u001b[0;31m     \u001b[0mresult\u001b[0m\u001b[0;34m[\u001b[0m\u001b[0;34m\"risk\"\u001b[0m\u001b[0;34m]\u001b[0m\u001b[0;34m=\u001b[0m \u001b[0mresult\u001b[0m\u001b[0;34m[\u001b[0m\u001b[0;34m\"scheme_name\"\u001b[0m\u001b[0;34m]\u001b[0m\u001b[0;34m.\u001b[0m\u001b[0mapply\u001b[0m\u001b[0;34m(\u001b[0m\u001b[0;32mlambda\u001b[0m \u001b[0mx\u001b[0m\u001b[0;34m:\u001b[0m \u001b[0mmf_perf\u001b[0m\u001b[0;34m.\u001b[0m\u001b[0mget_mf_risk\u001b[0m\u001b[0;34m(\u001b[0m\u001b[0mx\u001b[0m\u001b[0;34m)\u001b[0m\u001b[0;34m)\u001b[0m\u001b[0;34m\u001b[0m\u001b[0;34m\u001b[0m\u001b[0m\n\u001b[0m\u001b[1;32m     24\u001b[0m \u001b[0;34m\u001b[0m\u001b[0m\n\u001b[1;32m     25\u001b[0m     \u001b[0;32mreturn\u001b[0m \u001b[0mresult\u001b[0m\u001b[0;34m.\u001b[0m\u001b[0mhead\u001b[0m\u001b[0;34m(\u001b[0m\u001b[0mtop_n\u001b[0m\u001b[0;34m)\u001b[0m\u001b[0;34m\u001b[0m\u001b[0;34m\u001b[0m\u001b[0m\n",
      "\u001b[0;32m~/anaconda3/envs/tensorflow_p36/lib/python3.6/site-packages/pandas/core/frame.py\u001b[0m in \u001b[0;36m__setitem__\u001b[0;34m(self, key, value)\u001b[0m\n\u001b[1;32m   3042\u001b[0m         \u001b[0;32melse\u001b[0m\u001b[0;34m:\u001b[0m\u001b[0;34m\u001b[0m\u001b[0;34m\u001b[0m\u001b[0m\n\u001b[1;32m   3043\u001b[0m             \u001b[0;31m# set column\u001b[0m\u001b[0;34m\u001b[0m\u001b[0;34m\u001b[0m\u001b[0;34m\u001b[0m\u001b[0m\n\u001b[0;32m-> 3044\u001b[0;31m             \u001b[0mself\u001b[0m\u001b[0;34m.\u001b[0m\u001b[0m_set_item\u001b[0m\u001b[0;34m(\u001b[0m\u001b[0mkey\u001b[0m\u001b[0;34m,\u001b[0m \u001b[0mvalue\u001b[0m\u001b[0;34m)\u001b[0m\u001b[0;34m\u001b[0m\u001b[0;34m\u001b[0m\u001b[0m\n\u001b[0m\u001b[1;32m   3045\u001b[0m \u001b[0;34m\u001b[0m\u001b[0m\n\u001b[1;32m   3046\u001b[0m     \u001b[0;32mdef\u001b[0m \u001b[0m_setitem_slice\u001b[0m\u001b[0;34m(\u001b[0m\u001b[0mself\u001b[0m\u001b[0;34m,\u001b[0m \u001b[0mkey\u001b[0m\u001b[0;34m:\u001b[0m \u001b[0mslice\u001b[0m\u001b[0;34m,\u001b[0m \u001b[0mvalue\u001b[0m\u001b[0;34m)\u001b[0m\u001b[0;34m:\u001b[0m\u001b[0;34m\u001b[0m\u001b[0;34m\u001b[0m\u001b[0m\n",
      "\u001b[0;32m~/anaconda3/envs/tensorflow_p36/lib/python3.6/site-packages/pandas/core/frame.py\u001b[0m in \u001b[0;36m_set_item\u001b[0;34m(self, key, value)\u001b[0m\n\u001b[1;32m   3119\u001b[0m         \u001b[0mself\u001b[0m\u001b[0;34m.\u001b[0m\u001b[0m_ensure_valid_index\u001b[0m\u001b[0;34m(\u001b[0m\u001b[0mvalue\u001b[0m\u001b[0;34m)\u001b[0m\u001b[0;34m\u001b[0m\u001b[0;34m\u001b[0m\u001b[0m\n\u001b[1;32m   3120\u001b[0m         \u001b[0mvalue\u001b[0m \u001b[0;34m=\u001b[0m \u001b[0mself\u001b[0m\u001b[0;34m.\u001b[0m\u001b[0m_sanitize_column\u001b[0m\u001b[0;34m(\u001b[0m\u001b[0mkey\u001b[0m\u001b[0;34m,\u001b[0m \u001b[0mvalue\u001b[0m\u001b[0;34m)\u001b[0m\u001b[0;34m\u001b[0m\u001b[0;34m\u001b[0m\u001b[0m\n\u001b[0;32m-> 3121\u001b[0;31m         \u001b[0mNDFrame\u001b[0m\u001b[0;34m.\u001b[0m\u001b[0m_set_item\u001b[0m\u001b[0;34m(\u001b[0m\u001b[0mself\u001b[0m\u001b[0;34m,\u001b[0m \u001b[0mkey\u001b[0m\u001b[0;34m,\u001b[0m \u001b[0mvalue\u001b[0m\u001b[0;34m)\u001b[0m\u001b[0;34m\u001b[0m\u001b[0;34m\u001b[0m\u001b[0m\n\u001b[0m\u001b[1;32m   3122\u001b[0m \u001b[0;34m\u001b[0m\u001b[0m\n\u001b[1;32m   3123\u001b[0m         \u001b[0;31m# check if we are modifying a copy\u001b[0m\u001b[0;34m\u001b[0m\u001b[0;34m\u001b[0m\u001b[0;34m\u001b[0m\u001b[0m\n",
      "\u001b[0;32m~/anaconda3/envs/tensorflow_p36/lib/python3.6/site-packages/pandas/core/generic.py\u001b[0m in \u001b[0;36m_set_item\u001b[0;34m(self, key, value)\u001b[0m\n\u001b[1;32m   3577\u001b[0m         \u001b[0;32mexcept\u001b[0m \u001b[0mKeyError\u001b[0m\u001b[0;34m:\u001b[0m\u001b[0;34m\u001b[0m\u001b[0;34m\u001b[0m\u001b[0m\n\u001b[1;32m   3578\u001b[0m             \u001b[0;31m# This item wasn't present, just insert at end\u001b[0m\u001b[0;34m\u001b[0m\u001b[0;34m\u001b[0m\u001b[0;34m\u001b[0m\u001b[0m\n\u001b[0;32m-> 3579\u001b[0;31m             \u001b[0mself\u001b[0m\u001b[0;34m.\u001b[0m\u001b[0m_mgr\u001b[0m\u001b[0;34m.\u001b[0m\u001b[0minsert\u001b[0m\u001b[0;34m(\u001b[0m\u001b[0mlen\u001b[0m\u001b[0;34m(\u001b[0m\u001b[0mself\u001b[0m\u001b[0;34m.\u001b[0m\u001b[0m_info_axis\u001b[0m\u001b[0;34m)\u001b[0m\u001b[0;34m,\u001b[0m \u001b[0mkey\u001b[0m\u001b[0;34m,\u001b[0m \u001b[0mvalue\u001b[0m\u001b[0;34m)\u001b[0m\u001b[0;34m\u001b[0m\u001b[0;34m\u001b[0m\u001b[0m\n\u001b[0m\u001b[1;32m   3580\u001b[0m             \u001b[0;32mreturn\u001b[0m\u001b[0;34m\u001b[0m\u001b[0;34m\u001b[0m\u001b[0m\n\u001b[1;32m   3581\u001b[0m \u001b[0;34m\u001b[0m\u001b[0m\n",
      "\u001b[0;32m~/anaconda3/envs/tensorflow_p36/lib/python3.6/site-packages/pandas/core/internals/managers.py\u001b[0m in \u001b[0;36minsert\u001b[0;34m(self, loc, item, value, allow_duplicates)\u001b[0m\n\u001b[1;32m   1196\u001b[0m             \u001b[0mvalue\u001b[0m \u001b[0;34m=\u001b[0m \u001b[0m_safe_reshape\u001b[0m\u001b[0;34m(\u001b[0m\u001b[0mvalue\u001b[0m\u001b[0;34m,\u001b[0m \u001b[0;34m(\u001b[0m\u001b[0;36m1\u001b[0m\u001b[0;34m,\u001b[0m\u001b[0;34m)\u001b[0m \u001b[0;34m+\u001b[0m \u001b[0mvalue\u001b[0m\u001b[0;34m.\u001b[0m\u001b[0mshape\u001b[0m\u001b[0;34m)\u001b[0m\u001b[0;34m\u001b[0m\u001b[0;34m\u001b[0m\u001b[0m\n\u001b[1;32m   1197\u001b[0m \u001b[0;34m\u001b[0m\u001b[0m\n\u001b[0;32m-> 1198\u001b[0;31m         \u001b[0mblock\u001b[0m \u001b[0;34m=\u001b[0m \u001b[0mmake_block\u001b[0m\u001b[0;34m(\u001b[0m\u001b[0mvalues\u001b[0m\u001b[0;34m=\u001b[0m\u001b[0mvalue\u001b[0m\u001b[0;34m,\u001b[0m \u001b[0mndim\u001b[0m\u001b[0;34m=\u001b[0m\u001b[0mself\u001b[0m\u001b[0;34m.\u001b[0m\u001b[0mndim\u001b[0m\u001b[0;34m,\u001b[0m \u001b[0mplacement\u001b[0m\u001b[0;34m=\u001b[0m\u001b[0mslice\u001b[0m\u001b[0;34m(\u001b[0m\u001b[0mloc\u001b[0m\u001b[0;34m,\u001b[0m \u001b[0mloc\u001b[0m \u001b[0;34m+\u001b[0m \u001b[0;36m1\u001b[0m\u001b[0;34m)\u001b[0m\u001b[0;34m)\u001b[0m\u001b[0;34m\u001b[0m\u001b[0;34m\u001b[0m\u001b[0m\n\u001b[0m\u001b[1;32m   1199\u001b[0m \u001b[0;34m\u001b[0m\u001b[0m\n\u001b[1;32m   1200\u001b[0m         \u001b[0;32mfor\u001b[0m \u001b[0mblkno\u001b[0m\u001b[0;34m,\u001b[0m \u001b[0mcount\u001b[0m \u001b[0;32min\u001b[0m \u001b[0m_fast_count_smallints\u001b[0m\u001b[0;34m(\u001b[0m\u001b[0mself\u001b[0m\u001b[0;34m.\u001b[0m\u001b[0mblknos\u001b[0m\u001b[0;34m[\u001b[0m\u001b[0mloc\u001b[0m\u001b[0;34m:\u001b[0m\u001b[0;34m]\u001b[0m\u001b[0;34m)\u001b[0m\u001b[0;34m:\u001b[0m\u001b[0;34m\u001b[0m\u001b[0;34m\u001b[0m\u001b[0m\n",
      "\u001b[0;32m~/anaconda3/envs/tensorflow_p36/lib/python3.6/site-packages/pandas/core/internals/blocks.py\u001b[0m in \u001b[0;36mmake_block\u001b[0;34m(values, placement, klass, ndim, dtype)\u001b[0m\n\u001b[1;32m   2742\u001b[0m         \u001b[0mvalues\u001b[0m \u001b[0;34m=\u001b[0m \u001b[0mDatetimeArray\u001b[0m\u001b[0;34m.\u001b[0m\u001b[0m_simple_new\u001b[0m\u001b[0;34m(\u001b[0m\u001b[0mvalues\u001b[0m\u001b[0;34m,\u001b[0m \u001b[0mdtype\u001b[0m\u001b[0;34m=\u001b[0m\u001b[0mdtype\u001b[0m\u001b[0;34m)\u001b[0m\u001b[0;34m\u001b[0m\u001b[0;34m\u001b[0m\u001b[0m\n\u001b[1;32m   2743\u001b[0m \u001b[0;34m\u001b[0m\u001b[0m\n\u001b[0;32m-> 2744\u001b[0;31m     \u001b[0;32mreturn\u001b[0m \u001b[0mklass\u001b[0m\u001b[0;34m(\u001b[0m\u001b[0mvalues\u001b[0m\u001b[0;34m,\u001b[0m \u001b[0mndim\u001b[0m\u001b[0;34m=\u001b[0m\u001b[0mndim\u001b[0m\u001b[0;34m,\u001b[0m \u001b[0mplacement\u001b[0m\u001b[0;34m=\u001b[0m\u001b[0mplacement\u001b[0m\u001b[0;34m)\u001b[0m\u001b[0;34m\u001b[0m\u001b[0;34m\u001b[0m\u001b[0m\n\u001b[0m\u001b[1;32m   2745\u001b[0m \u001b[0;34m\u001b[0m\u001b[0m\n\u001b[1;32m   2746\u001b[0m \u001b[0;34m\u001b[0m\u001b[0m\n",
      "\u001b[0;32m~/anaconda3/envs/tensorflow_p36/lib/python3.6/site-packages/pandas/core/internals/blocks.py\u001b[0m in \u001b[0;36m__init__\u001b[0;34m(self, values, placement, ndim)\u001b[0m\n\u001b[1;32m   2398\u001b[0m             \u001b[0mvalues\u001b[0m \u001b[0;34m=\u001b[0m \u001b[0mnp\u001b[0m\u001b[0;34m.\u001b[0m\u001b[0marray\u001b[0m\u001b[0;34m(\u001b[0m\u001b[0mvalues\u001b[0m\u001b[0;34m,\u001b[0m \u001b[0mdtype\u001b[0m\u001b[0;34m=\u001b[0m\u001b[0mobject\u001b[0m\u001b[0;34m)\u001b[0m\u001b[0;34m\u001b[0m\u001b[0;34m\u001b[0m\u001b[0m\n\u001b[1;32m   2399\u001b[0m \u001b[0;34m\u001b[0m\u001b[0m\n\u001b[0;32m-> 2400\u001b[0;31m         \u001b[0msuper\u001b[0m\u001b[0;34m(\u001b[0m\u001b[0;34m)\u001b[0m\u001b[0;34m.\u001b[0m\u001b[0m__init__\u001b[0m\u001b[0;34m(\u001b[0m\u001b[0mvalues\u001b[0m\u001b[0;34m,\u001b[0m \u001b[0mndim\u001b[0m\u001b[0;34m=\u001b[0m\u001b[0mndim\u001b[0m\u001b[0;34m,\u001b[0m \u001b[0mplacement\u001b[0m\u001b[0;34m=\u001b[0m\u001b[0mplacement\u001b[0m\u001b[0;34m)\u001b[0m\u001b[0;34m\u001b[0m\u001b[0;34m\u001b[0m\u001b[0m\n\u001b[0m\u001b[1;32m   2401\u001b[0m \u001b[0;34m\u001b[0m\u001b[0m\n\u001b[1;32m   2402\u001b[0m     \u001b[0;34m@\u001b[0m\u001b[0mproperty\u001b[0m\u001b[0;34m\u001b[0m\u001b[0;34m\u001b[0m\u001b[0m\n",
      "\u001b[0;32m~/anaconda3/envs/tensorflow_p36/lib/python3.6/site-packages/pandas/core/internals/blocks.py\u001b[0m in \u001b[0;36m__init__\u001b[0;34m(self, values, placement, ndim)\u001b[0m\n\u001b[1;32m    129\u001b[0m         \u001b[0;32mif\u001b[0m \u001b[0mself\u001b[0m\u001b[0;34m.\u001b[0m\u001b[0m_validate_ndim\u001b[0m \u001b[0;32mand\u001b[0m \u001b[0mself\u001b[0m\u001b[0;34m.\u001b[0m\u001b[0mndim\u001b[0m \u001b[0;32mand\u001b[0m \u001b[0mlen\u001b[0m\u001b[0;34m(\u001b[0m\u001b[0mself\u001b[0m\u001b[0;34m.\u001b[0m\u001b[0mmgr_locs\u001b[0m\u001b[0;34m)\u001b[0m \u001b[0;34m!=\u001b[0m \u001b[0mlen\u001b[0m\u001b[0;34m(\u001b[0m\u001b[0mself\u001b[0m\u001b[0;34m.\u001b[0m\u001b[0mvalues\u001b[0m\u001b[0;34m)\u001b[0m\u001b[0;34m:\u001b[0m\u001b[0;34m\u001b[0m\u001b[0;34m\u001b[0m\u001b[0m\n\u001b[1;32m    130\u001b[0m             raise ValueError(\n\u001b[0;32m--> 131\u001b[0;31m                 \u001b[0;34mf\"Wrong number of items passed {len(self.values)}, \"\u001b[0m\u001b[0;34m\u001b[0m\u001b[0;34m\u001b[0m\u001b[0m\n\u001b[0m\u001b[1;32m    132\u001b[0m                 \u001b[0;34mf\"placement implies {len(self.mgr_locs)}\"\u001b[0m\u001b[0;34m\u001b[0m\u001b[0;34m\u001b[0m\u001b[0m\n\u001b[1;32m    133\u001b[0m             )\n",
      "\u001b[0;31mValueError\u001b[0m: Wrong number of items passed 5, placement implies 1"
     ]
    }
   ],
   "source": [
    "df_data=get_popularity_based_funds(mf_category=\"Debt Scheme\",risk=\"Moderate\")"
   ]
  },
  {
   "cell_type": "code",
   "execution_count": null,
   "id": "bbedd971",
   "metadata": {},
   "outputs": [],
   "source": [
    "df_data.head()"
   ]
  },
  {
   "cell_type": "code",
   "execution_count": null,
   "id": "5a551698",
   "metadata": {},
   "outputs": [],
   "source": [
    "df_data=get_popularity_based_funds(mf_category=\"Equity Scheme\")"
   ]
  },
  {
   "cell_type": "code",
   "execution_count": null,
   "id": "551f6383",
   "metadata": {},
   "outputs": [],
   "source": [
    "df_data"
   ]
  },
  {
   "cell_type": "code",
   "execution_count": null,
   "id": "faf6974a",
   "metadata": {},
   "outputs": [],
   "source": [
    "def get_mf_risk(scheme_name,mf_df,default=\"Moderate\"):\n",
    "    selected_mf=None\n",
    "    selected_ratio=-1    \n",
    "    mf_risk_score= mf_df[mf_df[\"fund_name\"].str.lower()==str(scheme_name).lower()][\"Risk\"].to_list()\n",
    "    if len(mf_risk_score)>=1:\n",
    "        return str(mf_risk_score[0])\n",
    "    elif len(mf_risk_score)==0:\n",
    "        ratio=SequenceMatcher(a=scheme_name.lower(),b=mf.lower()).ratio()\n",
    "        for mf in mf_df[\"fund_name\"].str.lower():\n",
    "            ratio=SequenceMatcher(a=scheme_name.lower(),b=mf.lower()).ratio()\n",
    "            if ratio >selected_ratio:\n",
    "                selected_ratio=ratio\n",
    "                selected_mf=mf \n",
    "        mf_risk_score= mf_df[mf_df[\"fund_name\"].str.lower()==str(selected_mf).lower()][\"Risk\"].to_list()\n",
    "        return mf_risk_score[0]\n",
    "    else:\n",
    "        return str(mf_risk_score)"
   ]
  },
  {
   "cell_type": "code",
   "execution_count": null,
   "id": "5e4f3d00",
   "metadata": {},
   "outputs": [],
   "source": []
  },
  {
   "cell_type": "code",
   "execution_count": null,
   "id": "c34ce11f",
   "metadata": {},
   "outputs": [],
   "source": [
    "def get_mf_details(self,scheme_name,mf_category=None,mf_sub_category=None,load_cache=True):\n",
    "        selected_mf=None\n",
    "        selected_ratio=-1\n",
    "        result=pd.DataFrame(columns=['scheme_name', 'benchmark', 'latest NAV- Regular', 'latest NAV- Direct',\\\n",
    "       '1-Year Return(%)- Regular', '1-Year Return(%)- Direct',\\\n",
    "       '3-Year Return(%)- Regular', '3-Year Return(%)- Direct',\\\n",
    "       '5-Year Return(%)- Regular', '5-Year Return(%)- Direct'])\n",
    "        if self.mf_perform_data is None:\n",
    "            self.mf_perform_data=self.mutual_fund_performance(mf_category,mf_sub_category,load_cache)\n",
    "        for mf in self.mf_perform_data[\"scheme_name\"]:\n",
    "            if scheme_name.lower() == mf.lower():\n",
    "                ratio=100\n",
    "            else:\n",
    "                ratio=SequenceMatcher(a=scheme_name.lower(),b=mf.lower()).ratio()\n",
    "            if ratio >selected_ratio:\n",
    "                selected_ratio=ratio\n",
    "                selected_mf=mf \n",
    "                if selected_ratio==100:\n",
    "                    break\n",
    "        if selected_ratio>-1:\n",
    "            result=self.mf_perform_data[self.mf_perform_data[\"scheme_name\"]==selected_mf].drop_duplicates()\n",
    "        return result"
   ]
  },
  {
   "cell_type": "code",
   "execution_count": null,
   "id": "518bdff2",
   "metadata": {},
   "outputs": [],
   "source": [
    "load_cache=True\n",
    "mf_category=\"Debt Scheme\"\n",
    "risk=\"Moderate\"\n",
    "mf_sub_category=None\n",
    "top_n=5"
   ]
  },
  {
   "cell_type": "code",
   "execution_count": null,
   "id": "d20b7750",
   "metadata": {},
   "outputs": [],
   "source": [
    "FILE_NAME=\"mf_data_popular.pkl.bz2\"\n",
    "global mf_df\n",
    "if load_cache==True:\n",
    "    if mf_df is None:\n",
    "        mf_df=pd.read_pickle(FILE_NAME,compression=\"bz2\")\n",
    "else:\n",
    "    mf_df=calculate_popularity(FILE_NAME,user_mf_json)\n",
    "filter_df= mf_df.copy(deep=True)\n",
    "if mf_category is not None:\n",
    "    filter_df=filter_df[filter_df[\"mf_category\"]==mf_category]\n",
    "if mf_sub_category is not None:\n",
    "    filter_df=filter_df[filter_df[\"mf_sub_category\"]==mf_sub_category]\n",
    "if risk is not None:\n",
    "    filter_df=filter_df[filter_df[\"Risk\"]==risk]\n",
    "filter_df=filter_df.sort_values(by=\"rank\",ascending=True).head(top_n)\n",
    "result=get_performance_data(filter_df[\"fund_name\"].to_list(),mf_category=\"Debt Scheme\",risk=\"Moderate\")"
   ]
  },
  {
   "cell_type": "code",
   "execution_count": null,
   "id": "ea44ac8c",
   "metadata": {},
   "outputs": [],
   "source": [
    "result"
   ]
  },
  {
   "cell_type": "code",
   "execution_count": null,
   "id": "1ec67633",
   "metadata": {},
   "outputs": [],
   "source": [
    "result[result[\"risk\"]==risk].head(top_n)"
   ]
  },
  {
   "cell_type": "code",
   "execution_count": null,
   "id": "a3c01a74",
   "metadata": {},
   "outputs": [],
   "source": []
  }
 ],
 "metadata": {
  "kernelspec": {
   "display_name": "conda_tensorflow_p36",
   "language": "python",
   "name": "conda_tensorflow_p36"
  },
  "language_info": {
   "codemirror_mode": {
    "name": "ipython",
    "version": 3
   },
   "file_extension": ".py",
   "mimetype": "text/x-python",
   "name": "python",
   "nbconvert_exporter": "python",
   "pygments_lexer": "ipython3",
   "version": "3.6.13"
  }
 },
 "nbformat": 4,
 "nbformat_minor": 5
}
