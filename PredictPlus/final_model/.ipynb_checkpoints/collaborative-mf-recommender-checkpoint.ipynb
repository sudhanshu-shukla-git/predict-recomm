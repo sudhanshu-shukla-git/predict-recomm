{
 "cells": [
  {
   "cell_type": "code",
   "execution_count": 41,
   "id": "a0c8df23",
   "metadata": {},
   "outputs": [],
   "source": [
    "import pandas as pd\n",
    "import numpy as np\n",
    "import sklearn\n",
    "from sklearn.decomposition import TruncatedSVD\n",
    "import pickle\n",
    "from mf_performance_details import mf_performance\n",
    "import warnings\n",
    "from flask import jsonify\n",
    "from flask import request, make_response,Response\n",
    "warnings.filterwarnings(\"ignore\")"
   ]
  },
  {
   "cell_type": "code",
   "execution_count": 2,
   "id": "6bf2ed63",
   "metadata": {},
   "outputs": [],
   "source": [
    "def flatten(t):\n",
    "        return [item for sublist in t for item in sublist]"
   ]
  },
  {
   "cell_type": "code",
   "execution_count": 3,
   "id": "bc2ebae6",
   "metadata": {},
   "outputs": [],
   "source": [
    "def save_obj(obj_data,file_name):\n",
    "    f = open(file_name,\"wb\")\n",
    "    # write the python object (dict) to pickle file\n",
    "    pickle.dump(obj_data,f)\n",
    "    # close file\n",
    "    f.close()\n",
    "\n",
    "def load_obj(file_name):\n",
    "    file_to_read = open(file_name, \"rb\")\n",
    "    obj_data = pickle.load(file_to_read)\n",
    "    return obj_data\n",
    "    "
   ]
  },
  {
   "cell_type": "code",
   "execution_count": 42,
   "id": "cc3ce9d7",
   "metadata": {},
   "outputs": [],
   "source": [
    "result=get_collaboration_based_funds([148627,148629],\"user_mf_data.json\")"
   ]
  },
  {
   "cell_type": "code",
   "execution_count": 43,
   "id": "5f2c2a7f",
   "metadata": {},
   "outputs": [
    {
     "data": {
      "text/plain": [
       "b'[{\"scheme_name\":\"SBI Focused Equity Fund\",\"benchmark\":\"S&P BSE 500 Total Return Index\",\"latest NAV- Regular\":\"245.9817\",\"latest NAV- Direct\":\"266.8505\",\"1-Year Return(%)- Regular\":\"67.58\",\"1-Year Return(%)- Direct\":\"69.38\",\"3-Year Return(%)- Regular\":\"26.27\",\"3-Year Return(%)- Direct\":\"27.57\",\"5-Year Return(%)- Regular\":\"18.11\",\"5-Year Return(%)- Direct\":\"19.29\"},{\"scheme_name\":\"HDFC Top 100 Fund\",\"benchmark\":\"NIFTY 100 Total Return Index\",\"latest NAV- Regular\":\"709.1150\",\"latest NAV- Direct\":\"749.9720\",\"1-Year Return(%)- Regular\":\"60.15\",\"1-Year Return(%)- Direct\":\"61.07\",\"3-Year Return(%)- Regular\":\"17.75\",\"3-Year Return(%)- Direct\":\"18.44\",\"5-Year Return(%)- Regular\":\"13.65\",\"5-Year Return(%)- Direct\":\"14.39\"},{\"scheme_name\":\"LIC MF Bond Fund\",\"benchmark\":\"CRISIL Composite Bond Index\",\"latest NAV- Regular\":\"57.7244\",\"latest NAV- Direct\":\"60.4964\",\"1-Year Return(%)- Regular\":\"2.27\",\"1-Year Return(%)- Direct\":\"2.61\",\"3-Year Return(%)- Regular\":\"7.70\",\"3-Year Return(%)- Direct\":\"8.33\",\"5-Year Return(%)- Regular\":\"5.61\",\"5-Year Return(%)- Direct\":\"6.17\"},{\"scheme_name\":\"LIC MF Bond Fund\",\"benchmark\":\"CRISIL Composite Bond Index\",\"latest NAV- Regular\":\"57.7244\",\"latest NAV- Direct\":\"60.4964\",\"1-Year Return(%)- Regular\":\"2.27\",\"1-Year Return(%)- Direct\":\"2.61\",\"3-Year Return(%)- Regular\":\"7.70\",\"3-Year Return(%)- Direct\":\"8.33\",\"5-Year Return(%)- Regular\":\"5.61\",\"5-Year Return(%)- Direct\":\"6.17\"},{\"scheme_name\":\"ICICI Prudential Focused Equity Fund\",\"benchmark\":\"S&P BSE 500 Total Return Index\",\"latest NAV- Regular\":\"50.3400\",\"latest NAV- Direct\":\"55.0800\",\"1-Year Return(%)- Regular\":\"62.90\",\"1-Year Return(%)- Direct\":\"64.90\",\"3-Year Return(%)- Regular\":\"20.69\",\"3-Year Return(%)- Direct\":\"22.04\",\"5-Year Return(%)- Regular\":\"14.55\",\"5-Year Return(%)- Direct\":\"15.83\"}]'"
      ]
     },
     "execution_count": 43,
     "metadata": {},
     "output_type": "execute_result"
    }
   ],
   "source": [
    "result.data"
   ]
  },
  {
   "cell_type": "code",
   "execution_count": 32,
   "id": "08a19393",
   "metadata": {},
   "outputs": [],
   "source": [
    "def get_collaboration_based_funds(current_mf_holdings,user_data_json=None,top_n=5,load_cache=True):\n",
    "    try:\n",
    "        CORR_DATA_FILE_NAME=\"../crosstab_matrix.pkl.bz2\"\n",
    "        COLLAB_MATRIX_FILE_NAME=\"collaboration_matrix.pkl\"\n",
    "        if load_cache:\n",
    "            corr_data= pd.read_pickle(CORR_DATA_FILE_NAME)\n",
    "            collab_matrix=collab_matrix= load_obj(COLLAB_MATRIX_FILE_NAME)\n",
    "        else:\n",
    "            user_df=pd.read_json(user_data_json)\n",
    "            user_df=user_df[[\"member_id\",\"mf_id\"]].drop_duplicates()\n",
    "            corr_data=correlation_data(user_df)        \n",
    "            collab_matrix=calculate_collaboration(corr_data)\n",
    "        suggested_mf= get_suggested_funds(current_mf_holdings,collab_matrix,corr_data)[:top_n]\n",
    "        result=mf_details(suggested_mf)\n",
    "        return get_response(result)\n",
    "    except Exception as ex:\n",
    "        return get_exception_response(\"Exception Occured:\"+ex) "
   ]
  },
  {
   "cell_type": "code",
   "execution_count": 33,
   "id": "a35bc1cd",
   "metadata": {},
   "outputs": [],
   "source": [
    "def get_suggested_funds(current_mf_holdings,collab_matrix,corr_data):\n",
    "    list_recomm_mfs=[]\n",
    "    mf_names = corr_data.columns\n",
    "    mf_list = list(mf_names)\n",
    "    for mf in current_mf_holdings:\n",
    "        mf_idx=mf_list.index(mf)\n",
    "        mfid=collab_matrix[mf_idx]\n",
    "        suggested_mf=list(mf_names[(mfid<1.0) & (mfid > 0.9)])\n",
    "        list_recomm_mfs.append(suggested_mf)\n",
    "    final_mfs=list(set(flatten(list_recomm_mfs)))\n",
    "    final_mfs = [e for e in final_mfs if e not in current_mf_holdings]\n",
    "    return final_mfs"
   ]
  },
  {
   "cell_type": "code",
   "execution_count": 34,
   "id": "fd528b45",
   "metadata": {},
   "outputs": [],
   "source": [
    "def correlation_data(user_data):\n",
    "    user_data[\"buy\"]=1\n",
    "    corr_data=user_data.pivot_table(values=\"buy\",index=\"member_id\",columns=\"mf_id\", fill_value=0)    \n",
    "    return corr_data"
   ]
  },
  {
   "cell_type": "code",
   "execution_count": 35,
   "id": "ab7ca88e",
   "metadata": {},
   "outputs": [],
   "source": [
    "def calculate_collaboration(correlation_data):\n",
    "    X = correlation_data.T\n",
    "    ### Decomposing the Matrix\n",
    "    SVD = TruncatedSVD(n_components=12, random_state=17)\n",
    "    resultant_matrix = SVD.fit_transform(X)\n",
    "    ### Generating a Correlation Matrix\n",
    "    collab_matrix = np.corrcoef(resultant_matrix) \n",
    "    return collab_matrix"
   ]
  },
  {
   "cell_type": "code",
   "execution_count": 36,
   "id": "709c4e52",
   "metadata": {},
   "outputs": [],
   "source": [
    "def mf_details(funds):\n",
    "    mf_df=pd.read_pickle(\"mf_data_popular.pkl.bz2\",compression=\"bz2\")\n",
    "    funds_details=mf_df[mf_df[\"scheme_code\"].isin(funds)]\n",
    "    funds_details=list(set(funds_details[\"fund_name\"].values))\n",
    "    final_df=get_performance_data(funds_details)\n",
    "    return final_df"
   ]
  },
  {
   "cell_type": "code",
   "execution_count": 37,
   "id": "127a94dd",
   "metadata": {},
   "outputs": [],
   "source": [
    "def get_performance_data(fund_names):\n",
    "    mf_perf=mf_performance()\n",
    "    df_list=[]\n",
    "    \n",
    "    for fund in fund_names:\n",
    "        df_perf=mf_perf.get_mf_details(fund)\n",
    "        \n",
    "        df_list.append(df_perf)\n",
    "    final_df=pd.concat(df_list).reset_index(drop=True)\n",
    "    #final_df[\"risk\"]= final_df[\"scheme_name\"].apply(lambda x: mf_perf.get_mf_risk(x))\n",
    "    return final_df"
   ]
  },
  {
   "cell_type": "code",
   "execution_count": 38,
   "id": "233520ee",
   "metadata": {},
   "outputs": [],
   "source": [
    "def get_response(df):\n",
    "        try:\n",
    "            json = df.to_json(orient='records')\n",
    "            return Response(json, mimetype='application/json')\n",
    "        except Exception as ex:\n",
    "            return get_exception_response(ex)"
   ]
  },
  {
   "cell_type": "code",
   "execution_count": 39,
   "id": "6b7948ce",
   "metadata": {},
   "outputs": [],
   "source": [
    "def get_exception_response(ex):\n",
    "    return Response(ex,500)"
   ]
  },
  {
   "cell_type": "code",
   "execution_count": null,
   "id": "885fd4fe",
   "metadata": {},
   "outputs": [],
   "source": []
  }
 ],
 "metadata": {
  "kernelspec": {
   "display_name": "conda_tensorflow_p36",
   "language": "python",
   "name": "conda_tensorflow_p36"
  },
  "language_info": {
   "codemirror_mode": {
    "name": "ipython",
    "version": 3
   },
   "file_extension": ".py",
   "mimetype": "text/x-python",
   "name": "python",
   "nbconvert_exporter": "python",
   "pygments_lexer": "ipython3",
   "version": "3.6.13"
  }
 },
 "nbformat": 4,
 "nbformat_minor": 5
}
