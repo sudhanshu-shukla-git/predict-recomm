{
 "cells": [
  {
   "cell_type": "code",
   "execution_count": 5,
   "id": "b49b6f50",
   "metadata": {},
   "outputs": [],
   "source": [
    "import pandas as pd\n",
    "from sklearn.model_selection import train_test_split\n",
    "import numpy as np\n",
    "from sklearn.preprocessing import MinMaxScaler\n",
    "scaler=MinMaxScaler()"
   ]
  },
  {
   "cell_type": "code",
   "execution_count": 2,
   "id": "e92ea9bb",
   "metadata": {},
   "outputs": [],
   "source": [
    "df= pd.read_pickle(\"final_train_test_risk_score.pkl.bz2\",compression=\"bz2\")"
   ]
  },
  {
   "cell_type": "code",
   "execution_count": 3,
   "id": "93dc7302",
   "metadata": {},
   "outputs": [],
   "source": [
    "df.drop([\"improvement\",\"member_id\"],axis=1,inplace=True)"
   ]
  },
  {
   "cell_type": "code",
   "execution_count": 4,
   "id": "67cbecd2",
   "metadata": {},
   "outputs": [],
   "source": [
    "X=df.drop(columns=\"score\",axis=1)\n",
    "y=df[\"score\"]"
   ]
  },
  {
   "cell_type": "code",
   "execution_count": 6,
   "id": "87ba4e8c",
   "metadata": {},
   "outputs": [],
   "source": [
    "# Test ,Train split\n",
    "X_train, X_test, y_train, y_test = train_test_split(X,y, train_size=0.7,test_size=0.3,random_state=100)"
   ]
  },
  {
   "cell_type": "code",
   "execution_count": 7,
   "id": "8bdb0de2",
   "metadata": {},
   "outputs": [],
   "source": [
    "X_train = scaler.fit_transform(X_train)"
   ]
  },
  {
   "cell_type": "code",
   "execution_count": 9,
   "id": "07774678",
   "metadata": {},
   "outputs": [
    {
     "data": {
      "text/plain": [
       "(26385,)"
      ]
     },
     "execution_count": 9,
     "metadata": {},
     "output_type": "execute_result"
    }
   ],
   "source": [
    "y_train.shape"
   ]
  },
  {
   "cell_type": "code",
   "execution_count": 10,
   "id": "4080c9a9",
   "metadata": {},
   "outputs": [
    {
     "data": {
      "text/plain": [
       "(26385, 18)"
      ]
     },
     "execution_count": 10,
     "metadata": {},
     "output_type": "execute_result"
    }
   ],
   "source": [
    "X_train.shape"
   ]
  },
  {
   "cell_type": "code",
   "execution_count": null,
   "id": "1fabf71c",
   "metadata": {},
   "outputs": [],
   "source": []
  }
 ],
 "metadata": {
  "kernelspec": {
   "display_name": "conda_tensorflow_p36",
   "language": "python",
   "name": "conda_tensorflow_p36"
  },
  "language_info": {
   "codemirror_mode": {
    "name": "ipython",
    "version": 3
   },
   "file_extension": ".py",
   "mimetype": "text/x-python",
   "name": "python",
   "nbconvert_exporter": "python",
   "pygments_lexer": "ipython3",
   "version": "3.6.13"
  }
 },
 "nbformat": 4,
 "nbformat_minor": 5
}
