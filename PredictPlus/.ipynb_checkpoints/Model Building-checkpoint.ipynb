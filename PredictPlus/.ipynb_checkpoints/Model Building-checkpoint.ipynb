{
 "cells": [
  {
   "cell_type": "code",
   "execution_count": 11,
   "id": "d14759ee",
   "metadata": {},
   "outputs": [],
   "source": [
    "import pandas as pd\n",
    "from sklearn.model_selection import train_test_split\n",
    "from sklearn.model_selection import KFold\n",
    "from sklearn.model_selection import GridSearchCV\n",
    "from sklearn.ensemble import RandomForestClassifier"
   ]
  },
  {
   "cell_type": "code",
   "execution_count": 4,
   "id": "a353ee22",
   "metadata": {},
   "outputs": [],
   "source": [
    "df= pd.read_pickle(\"train_test_data.pkl.bz2\",compression=\"bz2\")"
   ]
  },
  {
   "cell_type": "code",
   "execution_count": 6,
   "id": "d276a8e5",
   "metadata": {},
   "outputs": [
    {
     "data": {
      "text/html": [
       "<div>\n",
       "<style scoped>\n",
       "    .dataframe tbody tr th:only-of-type {\n",
       "        vertical-align: middle;\n",
       "    }\n",
       "\n",
       "    .dataframe tbody tr th {\n",
       "        vertical-align: top;\n",
       "    }\n",
       "\n",
       "    .dataframe thead th {\n",
       "        text-align: right;\n",
       "    }\n",
       "</style>\n",
       "<table border=\"1\" class=\"dataframe\">\n",
       "  <thead>\n",
       "    <tr style=\"text-align: right;\">\n",
       "      <th></th>\n",
       "      <th>emp_title_enc</th>\n",
       "      <th>home_ownership_enc</th>\n",
       "      <th>loan_status_enc</th>\n",
       "      <th>job_enc</th>\n",
       "      <th>purpose_enc</th>\n",
       "      <th>application_type_enc</th>\n",
       "      <th>marital_enc</th>\n",
       "      <th>education_enc</th>\n",
       "      <th>mf_preference_enc</th>\n",
       "      <th>scheme_type_enc</th>\n",
       "      <th>...</th>\n",
       "      <th>risk_profile</th>\n",
       "      <th>mf_id</th>\n",
       "      <th>amount</th>\n",
       "      <th>tenure_yr</th>\n",
       "      <th>popularity</th>\n",
       "      <th>rank</th>\n",
       "      <th>emp_length_val</th>\n",
       "      <th>term_val</th>\n",
       "      <th>payment_hist</th>\n",
       "      <th>credit_used</th>\n",
       "    </tr>\n",
       "  </thead>\n",
       "  <tbody>\n",
       "    <tr>\n",
       "      <th>0</th>\n",
       "      <td>(0, 3)\\t-1.0\\n  (0, 4)\\t1.0\\n  (0, 9)\\t-1.0\\...</td>\n",
       "      <td>(0, 1)\\t-1.0\\n  (0, 4)\\t1.0\\n  (1, 1)\\t-1.0\\...</td>\n",
       "      <td>(0, 0)\\t-1.0\\n  (0, 1)\\t3.0\\n  (0, 2)\\t2.0\\n...</td>\n",
       "      <td>(0, 2)\\t1.0\\n  (0, 3)\\t-1.0\\n  (0, 4)\\t2.0\\n...</td>\n",
       "      <td>(0, 4)\\t1.0\\n  (0, 5)\\t-1.0\\n  (0, 9)\\t2.0\\n...</td>\n",
       "      <td>(0, 0)\\t4.0\\n  (1, 0)\\t4.0\\n  (2, 0)\\t4.0\\n ...</td>\n",
       "      <td>(0, 0)\\t1.0\\n  (0, 1)\\t1.0\\n  (0, 2)\\t1.0\\n ...</td>\n",
       "      <td>(0, 0)\\t-1.0\\n  (0, 1)\\t-1.0\\n  (0, 2)\\t1.0\\...</td>\n",
       "      <td>(0, 1)\\t1.0\\n  (0, 2)\\t1.0\\n  (0, 3)\\t-1.0\\n...</td>\n",
       "      <td>(0, 4)\\t-2.0\\n  (0, 5)\\t-1.0\\n  (0, 6)\\t-1.0...</td>\n",
       "      <td>...</td>\n",
       "      <td>4</td>\n",
       "      <td>101186</td>\n",
       "      <td>16153</td>\n",
       "      <td>13</td>\n",
       "      <td>38</td>\n",
       "      <td>264.0</td>\n",
       "      <td>10.0</td>\n",
       "      <td>36</td>\n",
       "      <td>36.508641</td>\n",
       "      <td>10</td>\n",
       "    </tr>\n",
       "    <tr>\n",
       "      <th>1</th>\n",
       "      <td>(0, 3)\\t-1.0\\n  (0, 4)\\t1.0\\n  (0, 9)\\t-1.0\\...</td>\n",
       "      <td>(0, 1)\\t-1.0\\n  (0, 4)\\t1.0\\n  (1, 1)\\t-1.0\\...</td>\n",
       "      <td>(0, 0)\\t-1.0\\n  (0, 1)\\t3.0\\n  (0, 2)\\t2.0\\n...</td>\n",
       "      <td>(0, 2)\\t1.0\\n  (0, 3)\\t-1.0\\n  (0, 4)\\t2.0\\n...</td>\n",
       "      <td>(0, 4)\\t1.0\\n  (0, 5)\\t-1.0\\n  (0, 9)\\t2.0\\n...</td>\n",
       "      <td>(0, 0)\\t4.0\\n  (1, 0)\\t4.0\\n  (2, 0)\\t4.0\\n ...</td>\n",
       "      <td>(0, 0)\\t1.0\\n  (0, 1)\\t1.0\\n  (0, 2)\\t1.0\\n ...</td>\n",
       "      <td>(0, 0)\\t-1.0\\n  (0, 1)\\t-1.0\\n  (0, 2)\\t1.0\\...</td>\n",
       "      <td>(0, 1)\\t1.0\\n  (0, 2)\\t1.0\\n  (0, 3)\\t-1.0\\n...</td>\n",
       "      <td>(0, 4)\\t-2.0\\n  (0, 5)\\t-1.0\\n  (0, 6)\\t-1.0...</td>\n",
       "      <td>...</td>\n",
       "      <td>4</td>\n",
       "      <td>126708</td>\n",
       "      <td>7764</td>\n",
       "      <td>12</td>\n",
       "      <td>31</td>\n",
       "      <td>3043.0</td>\n",
       "      <td>10.0</td>\n",
       "      <td>36</td>\n",
       "      <td>36.508641</td>\n",
       "      <td>10</td>\n",
       "    </tr>\n",
       "    <tr>\n",
       "      <th>2</th>\n",
       "      <td>(0, 3)\\t-1.0\\n  (0, 4)\\t1.0\\n  (0, 9)\\t-1.0\\...</td>\n",
       "      <td>(0, 1)\\t-1.0\\n  (0, 4)\\t1.0\\n  (1, 1)\\t-1.0\\...</td>\n",
       "      <td>(0, 0)\\t-1.0\\n  (0, 1)\\t3.0\\n  (0, 2)\\t2.0\\n...</td>\n",
       "      <td>(0, 2)\\t1.0\\n  (0, 3)\\t-1.0\\n  (0, 4)\\t2.0\\n...</td>\n",
       "      <td>(0, 4)\\t1.0\\n  (0, 5)\\t-1.0\\n  (0, 9)\\t2.0\\n...</td>\n",
       "      <td>(0, 0)\\t4.0\\n  (1, 0)\\t4.0\\n  (2, 0)\\t4.0\\n ...</td>\n",
       "      <td>(0, 0)\\t1.0\\n  (0, 1)\\t1.0\\n  (0, 2)\\t1.0\\n ...</td>\n",
       "      <td>(0, 0)\\t-1.0\\n  (0, 1)\\t-1.0\\n  (0, 2)\\t1.0\\...</td>\n",
       "      <td>(0, 1)\\t1.0\\n  (0, 2)\\t1.0\\n  (0, 3)\\t-1.0\\n...</td>\n",
       "      <td>(0, 4)\\t-2.0\\n  (0, 5)\\t-1.0\\n  (0, 6)\\t-1.0...</td>\n",
       "      <td>...</td>\n",
       "      <td>4</td>\n",
       "      <td>119819</td>\n",
       "      <td>11489</td>\n",
       "      <td>18</td>\n",
       "      <td>27</td>\n",
       "      <td>6606.0</td>\n",
       "      <td>10.0</td>\n",
       "      <td>36</td>\n",
       "      <td>36.508641</td>\n",
       "      <td>10</td>\n",
       "    </tr>\n",
       "    <tr>\n",
       "      <th>3</th>\n",
       "      <td>(0, 3)\\t-1.0\\n  (0, 4)\\t1.0\\n  (0, 9)\\t-1.0\\...</td>\n",
       "      <td>(0, 1)\\t-1.0\\n  (0, 4)\\t1.0\\n  (1, 1)\\t-1.0\\...</td>\n",
       "      <td>(0, 0)\\t-1.0\\n  (0, 1)\\t3.0\\n  (0, 2)\\t2.0\\n...</td>\n",
       "      <td>(0, 2)\\t1.0\\n  (0, 3)\\t-1.0\\n  (0, 4)\\t2.0\\n...</td>\n",
       "      <td>(0, 4)\\t1.0\\n  (0, 5)\\t-1.0\\n  (0, 9)\\t2.0\\n...</td>\n",
       "      <td>(0, 0)\\t4.0\\n  (1, 0)\\t4.0\\n  (2, 0)\\t4.0\\n ...</td>\n",
       "      <td>(0, 0)\\t1.0\\n  (0, 1)\\t1.0\\n  (0, 2)\\t1.0\\n ...</td>\n",
       "      <td>(0, 0)\\t-1.0\\n  (0, 1)\\t-1.0\\n  (0, 2)\\t1.0\\...</td>\n",
       "      <td>(0, 1)\\t1.0\\n  (0, 2)\\t1.0\\n  (0, 3)\\t-1.0\\n...</td>\n",
       "      <td>(0, 4)\\t-2.0\\n  (0, 5)\\t-1.0\\n  (0, 6)\\t-1.0...</td>\n",
       "      <td>...</td>\n",
       "      <td>4</td>\n",
       "      <td>141288</td>\n",
       "      <td>7467</td>\n",
       "      <td>8</td>\n",
       "      <td>29</td>\n",
       "      <td>5013.0</td>\n",
       "      <td>10.0</td>\n",
       "      <td>36</td>\n",
       "      <td>36.508641</td>\n",
       "      <td>10</td>\n",
       "    </tr>\n",
       "    <tr>\n",
       "      <th>4</th>\n",
       "      <td>(0, 3)\\t-1.0\\n  (0, 4)\\t1.0\\n  (0, 9)\\t-1.0\\...</td>\n",
       "      <td>(0, 1)\\t-1.0\\n  (0, 4)\\t1.0\\n  (1, 1)\\t-1.0\\...</td>\n",
       "      <td>(0, 0)\\t-1.0\\n  (0, 1)\\t3.0\\n  (0, 2)\\t2.0\\n...</td>\n",
       "      <td>(0, 2)\\t1.0\\n  (0, 3)\\t-1.0\\n  (0, 4)\\t2.0\\n...</td>\n",
       "      <td>(0, 4)\\t1.0\\n  (0, 5)\\t-1.0\\n  (0, 9)\\t2.0\\n...</td>\n",
       "      <td>(0, 0)\\t4.0\\n  (1, 0)\\t4.0\\n  (2, 0)\\t4.0\\n ...</td>\n",
       "      <td>(0, 0)\\t1.0\\n  (0, 1)\\t1.0\\n  (0, 2)\\t1.0\\n ...</td>\n",
       "      <td>(0, 0)\\t-1.0\\n  (0, 1)\\t-1.0\\n  (0, 2)\\t1.0\\...</td>\n",
       "      <td>(0, 1)\\t1.0\\n  (0, 2)\\t1.0\\n  (0, 3)\\t-1.0\\n...</td>\n",
       "      <td>(0, 4)\\t-2.0\\n  (0, 5)\\t-1.0\\n  (0, 6)\\t-1.0...</td>\n",
       "      <td>...</td>\n",
       "      <td>4</td>\n",
       "      <td>141929</td>\n",
       "      <td>19289</td>\n",
       "      <td>5</td>\n",
       "      <td>22</td>\n",
       "      <td>11735.0</td>\n",
       "      <td>10.0</td>\n",
       "      <td>36</td>\n",
       "      <td>36.508641</td>\n",
       "      <td>10</td>\n",
       "    </tr>\n",
       "  </tbody>\n",
       "</table>\n",
       "<p>5 rows × 28 columns</p>\n",
       "</div>"
      ],
      "text/plain": [
       "                                       emp_title_enc  \\\n",
       "0    (0, 3)\\t-1.0\\n  (0, 4)\\t1.0\\n  (0, 9)\\t-1.0\\...   \n",
       "1    (0, 3)\\t-1.0\\n  (0, 4)\\t1.0\\n  (0, 9)\\t-1.0\\...   \n",
       "2    (0, 3)\\t-1.0\\n  (0, 4)\\t1.0\\n  (0, 9)\\t-1.0\\...   \n",
       "3    (0, 3)\\t-1.0\\n  (0, 4)\\t1.0\\n  (0, 9)\\t-1.0\\...   \n",
       "4    (0, 3)\\t-1.0\\n  (0, 4)\\t1.0\\n  (0, 9)\\t-1.0\\...   \n",
       "\n",
       "                                  home_ownership_enc  \\\n",
       "0    (0, 1)\\t-1.0\\n  (0, 4)\\t1.0\\n  (1, 1)\\t-1.0\\...   \n",
       "1    (0, 1)\\t-1.0\\n  (0, 4)\\t1.0\\n  (1, 1)\\t-1.0\\...   \n",
       "2    (0, 1)\\t-1.0\\n  (0, 4)\\t1.0\\n  (1, 1)\\t-1.0\\...   \n",
       "3    (0, 1)\\t-1.0\\n  (0, 4)\\t1.0\\n  (1, 1)\\t-1.0\\...   \n",
       "4    (0, 1)\\t-1.0\\n  (0, 4)\\t1.0\\n  (1, 1)\\t-1.0\\...   \n",
       "\n",
       "                                     loan_status_enc  \\\n",
       "0    (0, 0)\\t-1.0\\n  (0, 1)\\t3.0\\n  (0, 2)\\t2.0\\n...   \n",
       "1    (0, 0)\\t-1.0\\n  (0, 1)\\t3.0\\n  (0, 2)\\t2.0\\n...   \n",
       "2    (0, 0)\\t-1.0\\n  (0, 1)\\t3.0\\n  (0, 2)\\t2.0\\n...   \n",
       "3    (0, 0)\\t-1.0\\n  (0, 1)\\t3.0\\n  (0, 2)\\t2.0\\n...   \n",
       "4    (0, 0)\\t-1.0\\n  (0, 1)\\t3.0\\n  (0, 2)\\t2.0\\n...   \n",
       "\n",
       "                                             job_enc  \\\n",
       "0    (0, 2)\\t1.0\\n  (0, 3)\\t-1.0\\n  (0, 4)\\t2.0\\n...   \n",
       "1    (0, 2)\\t1.0\\n  (0, 3)\\t-1.0\\n  (0, 4)\\t2.0\\n...   \n",
       "2    (0, 2)\\t1.0\\n  (0, 3)\\t-1.0\\n  (0, 4)\\t2.0\\n...   \n",
       "3    (0, 2)\\t1.0\\n  (0, 3)\\t-1.0\\n  (0, 4)\\t2.0\\n...   \n",
       "4    (0, 2)\\t1.0\\n  (0, 3)\\t-1.0\\n  (0, 4)\\t2.0\\n...   \n",
       "\n",
       "                                         purpose_enc  \\\n",
       "0    (0, 4)\\t1.0\\n  (0, 5)\\t-1.0\\n  (0, 9)\\t2.0\\n...   \n",
       "1    (0, 4)\\t1.0\\n  (0, 5)\\t-1.0\\n  (0, 9)\\t2.0\\n...   \n",
       "2    (0, 4)\\t1.0\\n  (0, 5)\\t-1.0\\n  (0, 9)\\t2.0\\n...   \n",
       "3    (0, 4)\\t1.0\\n  (0, 5)\\t-1.0\\n  (0, 9)\\t2.0\\n...   \n",
       "4    (0, 4)\\t1.0\\n  (0, 5)\\t-1.0\\n  (0, 9)\\t2.0\\n...   \n",
       "\n",
       "                                application_type_enc  \\\n",
       "0    (0, 0)\\t4.0\\n  (1, 0)\\t4.0\\n  (2, 0)\\t4.0\\n ...   \n",
       "1    (0, 0)\\t4.0\\n  (1, 0)\\t4.0\\n  (2, 0)\\t4.0\\n ...   \n",
       "2    (0, 0)\\t4.0\\n  (1, 0)\\t4.0\\n  (2, 0)\\t4.0\\n ...   \n",
       "3    (0, 0)\\t4.0\\n  (1, 0)\\t4.0\\n  (2, 0)\\t4.0\\n ...   \n",
       "4    (0, 0)\\t4.0\\n  (1, 0)\\t4.0\\n  (2, 0)\\t4.0\\n ...   \n",
       "\n",
       "                                         marital_enc  \\\n",
       "0    (0, 0)\\t1.0\\n  (0, 1)\\t1.0\\n  (0, 2)\\t1.0\\n ...   \n",
       "1    (0, 0)\\t1.0\\n  (0, 1)\\t1.0\\n  (0, 2)\\t1.0\\n ...   \n",
       "2    (0, 0)\\t1.0\\n  (0, 1)\\t1.0\\n  (0, 2)\\t1.0\\n ...   \n",
       "3    (0, 0)\\t1.0\\n  (0, 1)\\t1.0\\n  (0, 2)\\t1.0\\n ...   \n",
       "4    (0, 0)\\t1.0\\n  (0, 1)\\t1.0\\n  (0, 2)\\t1.0\\n ...   \n",
       "\n",
       "                                       education_enc  \\\n",
       "0    (0, 0)\\t-1.0\\n  (0, 1)\\t-1.0\\n  (0, 2)\\t1.0\\...   \n",
       "1    (0, 0)\\t-1.0\\n  (0, 1)\\t-1.0\\n  (0, 2)\\t1.0\\...   \n",
       "2    (0, 0)\\t-1.0\\n  (0, 1)\\t-1.0\\n  (0, 2)\\t1.0\\...   \n",
       "3    (0, 0)\\t-1.0\\n  (0, 1)\\t-1.0\\n  (0, 2)\\t1.0\\...   \n",
       "4    (0, 0)\\t-1.0\\n  (0, 1)\\t-1.0\\n  (0, 2)\\t1.0\\...   \n",
       "\n",
       "                                   mf_preference_enc  \\\n",
       "0    (0, 1)\\t1.0\\n  (0, 2)\\t1.0\\n  (0, 3)\\t-1.0\\n...   \n",
       "1    (0, 1)\\t1.0\\n  (0, 2)\\t1.0\\n  (0, 3)\\t-1.0\\n...   \n",
       "2    (0, 1)\\t1.0\\n  (0, 2)\\t1.0\\n  (0, 3)\\t-1.0\\n...   \n",
       "3    (0, 1)\\t1.0\\n  (0, 2)\\t1.0\\n  (0, 3)\\t-1.0\\n...   \n",
       "4    (0, 1)\\t1.0\\n  (0, 2)\\t1.0\\n  (0, 3)\\t-1.0\\n...   \n",
       "\n",
       "                                     scheme_type_enc  ... risk_profile  \\\n",
       "0    (0, 4)\\t-2.0\\n  (0, 5)\\t-1.0\\n  (0, 6)\\t-1.0...  ...            4   \n",
       "1    (0, 4)\\t-2.0\\n  (0, 5)\\t-1.0\\n  (0, 6)\\t-1.0...  ...            4   \n",
       "2    (0, 4)\\t-2.0\\n  (0, 5)\\t-1.0\\n  (0, 6)\\t-1.0...  ...            4   \n",
       "3    (0, 4)\\t-2.0\\n  (0, 5)\\t-1.0\\n  (0, 6)\\t-1.0...  ...            4   \n",
       "4    (0, 4)\\t-2.0\\n  (0, 5)\\t-1.0\\n  (0, 6)\\t-1.0...  ...            4   \n",
       "\n",
       "    mf_id  amount  tenure_yr  popularity     rank  emp_length_val  term_val  \\\n",
       "0  101186   16153         13          38    264.0            10.0        36   \n",
       "1  126708    7764         12          31   3043.0            10.0        36   \n",
       "2  119819   11489         18          27   6606.0            10.0        36   \n",
       "3  141288    7467          8          29   5013.0            10.0        36   \n",
       "4  141929   19289          5          22  11735.0            10.0        36   \n",
       "\n",
       "   payment_hist  credit_used  \n",
       "0     36.508641           10  \n",
       "1     36.508641           10  \n",
       "2     36.508641           10  \n",
       "3     36.508641           10  \n",
       "4     36.508641           10  \n",
       "\n",
       "[5 rows x 28 columns]"
      ]
     },
     "execution_count": 6,
     "metadata": {},
     "output_type": "execute_result"
    }
   ],
   "source": [
    "df.head()"
   ]
  },
  {
   "cell_type": "code",
   "execution_count": 26,
   "id": "76efeac4",
   "metadata": {},
   "outputs": [
    {
     "name": "stdout",
     "output_type": "stream",
     "text": [
      "emp_title_enc\n",
      "home_ownership_enc\n",
      "loan_status_enc\n",
      "job_enc\n",
      "purpose_enc\n",
      "application_type_enc\n",
      "marital_enc\n",
      "education_enc\n",
      "mf_preference_enc\n",
      "scheme_type_enc\n",
      "scheme_cat_enc\n",
      "scheme_sub_cat_enc\n"
     ]
    }
   ],
   "source": [
    "for col in df.columns:\n",
    "    if \"enc\" in col:\n",
    "        df[col]=df[col].apply(lambda x: x.to_array())"
   ]
  },
  {
   "cell_type": "code",
   "execution_count": 7,
   "id": "802f4e76",
   "metadata": {},
   "outputs": [],
   "source": [
    "X=df.drop(columns=\"mf_id\",axis=1)\n",
    "y=df[\"mf_id\"]"
   ]
  },
  {
   "cell_type": "code",
   "execution_count": 14,
   "id": "d951070a",
   "metadata": {},
   "outputs": [
    {
     "data": {
      "text/plain": [
       "13882"
      ]
     },
     "execution_count": 14,
     "metadata": {},
     "output_type": "execute_result"
    }
   ],
   "source": [
    "y.nunique()"
   ]
  },
  {
   "cell_type": "code",
   "execution_count": 8,
   "id": "be6c9cb1",
   "metadata": {},
   "outputs": [],
   "source": [
    "# Test ,Train split\n",
    "X_train, X_test, y_train, y_test = train_test_split(X,y, train_size=0.7,test_size=0.3,random_state=100)"
   ]
  },
  {
   "cell_type": "code",
   "execution_count": 21,
   "id": "ae5aa6b5",
   "metadata": {},
   "outputs": [
    {
     "data": {
      "text/plain": [
       "(263935, 27)"
      ]
     },
     "execution_count": 21,
     "metadata": {},
     "output_type": "execute_result"
    }
   ],
   "source": [
    "X_train.shape"
   ]
  },
  {
   "cell_type": "code",
   "execution_count": 22,
   "id": "f6a06db3",
   "metadata": {},
   "outputs": [],
   "source": [
    "# define baseline model\n",
    "def baseline_model():\n",
    "    # create model\n",
    "    model = Sequential()\n",
    "    model.add(Dense(8, input_dim=4, activation='relu'))\n",
    "    model.add(Dense(3, activation='softmax'))\n",
    "    # Compile model\n",
    "    model.compile(loss='categorical_crossentropy', optimizer='adam', metrics=['accuracy'])\n",
    "    return model"
   ]
  },
  {
   "cell_type": "code",
   "execution_count": 19,
   "id": "cbc276c1",
   "metadata": {},
   "outputs": [
    {
     "name": "stdout",
     "output_type": "stream",
     "text": [
      "Fitting 3 folds for each of 324 candidates, totalling 972 fits\n"
     ]
    },
    {
     "name": "stderr",
     "output_type": "stream",
     "text": [
      "/home/ec2-user/anaconda3/envs/tensorflow_p36/lib/python3.6/site-packages/sklearn/model_selection/_search.py:921: UserWarning: One or more of the test scores are non-finite: [nan nan nan nan nan nan nan nan nan nan nan nan nan nan nan nan nan nan\n",
      " nan nan nan nan nan nan nan nan nan nan nan nan nan nan nan nan nan nan\n",
      " nan nan nan nan nan nan nan nan nan nan nan nan nan nan nan nan nan nan\n",
      " nan nan nan nan nan nan nan nan nan nan nan nan nan nan nan nan nan nan\n",
      " nan nan nan nan nan nan nan nan nan nan nan nan nan nan nan nan nan nan\n",
      " nan nan nan nan nan nan nan nan nan nan nan nan nan nan nan nan nan nan\n",
      " nan nan nan nan nan nan nan nan nan nan nan nan nan nan nan nan nan nan\n",
      " nan nan nan nan nan nan nan nan nan nan nan nan nan nan nan nan nan nan\n",
      " nan nan nan nan nan nan nan nan nan nan nan nan nan nan nan nan nan nan\n",
      " nan nan nan nan nan nan nan nan nan nan nan nan nan nan nan nan nan nan\n",
      " nan nan nan nan nan nan nan nan nan nan nan nan nan nan nan nan nan nan\n",
      " nan nan nan nan nan nan nan nan nan nan nan nan nan nan nan nan nan nan\n",
      " nan nan nan nan nan nan nan nan nan nan nan nan nan nan nan nan nan nan\n",
      " nan nan nan nan nan nan nan nan nan nan nan nan nan nan nan nan nan nan\n",
      " nan nan nan nan nan nan nan nan nan nan nan nan nan nan nan nan nan nan\n",
      " nan nan nan nan nan nan nan nan nan nan nan nan nan nan nan nan nan nan\n",
      " nan nan nan nan nan nan nan nan nan nan nan nan nan nan nan nan nan nan\n",
      " nan nan nan nan nan nan nan nan nan nan nan nan nan nan nan nan nan nan]\n",
      "  category=UserWarning\n"
     ]
    },
    {
     "ename": "ValueError",
     "evalue": "setting an array element with a sequence.",
     "output_type": "error",
     "traceback": [
      "\u001b[0;31m---------------------------------------------------------------------------\u001b[0m",
      "\u001b[0;31mTypeError\u001b[0m                                 Traceback (most recent call last)",
      "\u001b[0;31mTypeError\u001b[0m: float() argument must be a string or a number, not 'csr_matrix'",
      "\nThe above exception was the direct cause of the following exception:\n",
      "\u001b[0;31mValueError\u001b[0m                                Traceback (most recent call last)",
      "\u001b[0;32m<ipython-input-19-21bce26009fe>\u001b[0m in \u001b[0;36m<module>\u001b[0;34m\u001b[0m\n\u001b[1;32m     13\u001b[0m                           cv = 3, n_jobs = -1,verbose = 10)\n\u001b[1;32m     14\u001b[0m \u001b[0;34m\u001b[0m\u001b[0m\n\u001b[0;32m---> 15\u001b[0;31m \u001b[0mgrid_search\u001b[0m\u001b[0;34m.\u001b[0m\u001b[0mfit\u001b[0m\u001b[0;34m(\u001b[0m\u001b[0mX_train\u001b[0m\u001b[0;34m,\u001b[0m \u001b[0my_train\u001b[0m\u001b[0;34m)\u001b[0m\u001b[0;34m\u001b[0m\u001b[0;34m\u001b[0m\u001b[0m\n\u001b[0m",
      "\u001b[0;32m~/anaconda3/envs/tensorflow_p36/lib/python3.6/site-packages/sklearn/utils/validation.py\u001b[0m in \u001b[0;36minner_f\u001b[0;34m(*args, **kwargs)\u001b[0m\n\u001b[1;32m     61\u001b[0m             \u001b[0mextra_args\u001b[0m \u001b[0;34m=\u001b[0m \u001b[0mlen\u001b[0m\u001b[0;34m(\u001b[0m\u001b[0margs\u001b[0m\u001b[0;34m)\u001b[0m \u001b[0;34m-\u001b[0m \u001b[0mlen\u001b[0m\u001b[0;34m(\u001b[0m\u001b[0mall_args\u001b[0m\u001b[0;34m)\u001b[0m\u001b[0;34m\u001b[0m\u001b[0;34m\u001b[0m\u001b[0m\n\u001b[1;32m     62\u001b[0m             \u001b[0;32mif\u001b[0m \u001b[0mextra_args\u001b[0m \u001b[0;34m<=\u001b[0m \u001b[0;36m0\u001b[0m\u001b[0;34m:\u001b[0m\u001b[0;34m\u001b[0m\u001b[0;34m\u001b[0m\u001b[0m\n\u001b[0;32m---> 63\u001b[0;31m                 \u001b[0;32mreturn\u001b[0m \u001b[0mf\u001b[0m\u001b[0;34m(\u001b[0m\u001b[0;34m*\u001b[0m\u001b[0margs\u001b[0m\u001b[0;34m,\u001b[0m \u001b[0;34m**\u001b[0m\u001b[0mkwargs\u001b[0m\u001b[0;34m)\u001b[0m\u001b[0;34m\u001b[0m\u001b[0;34m\u001b[0m\u001b[0m\n\u001b[0m\u001b[1;32m     64\u001b[0m \u001b[0;34m\u001b[0m\u001b[0m\n\u001b[1;32m     65\u001b[0m             \u001b[0;31m# extra_args > 0\u001b[0m\u001b[0;34m\u001b[0m\u001b[0;34m\u001b[0m\u001b[0;34m\u001b[0m\u001b[0m\n",
      "\u001b[0;32m~/anaconda3/envs/tensorflow_p36/lib/python3.6/site-packages/sklearn/model_selection/_search.py\u001b[0m in \u001b[0;36mfit\u001b[0;34m(self, X, y, groups, **fit_params)\u001b[0m\n\u001b[1;32m    878\u001b[0m             \u001b[0mrefit_start_time\u001b[0m \u001b[0;34m=\u001b[0m \u001b[0mtime\u001b[0m\u001b[0;34m.\u001b[0m\u001b[0mtime\u001b[0m\u001b[0;34m(\u001b[0m\u001b[0;34m)\u001b[0m\u001b[0;34m\u001b[0m\u001b[0;34m\u001b[0m\u001b[0m\n\u001b[1;32m    879\u001b[0m             \u001b[0;32mif\u001b[0m \u001b[0my\u001b[0m \u001b[0;32mis\u001b[0m \u001b[0;32mnot\u001b[0m \u001b[0;32mNone\u001b[0m\u001b[0;34m:\u001b[0m\u001b[0;34m\u001b[0m\u001b[0;34m\u001b[0m\u001b[0m\n\u001b[0;32m--> 880\u001b[0;31m                 \u001b[0mself\u001b[0m\u001b[0;34m.\u001b[0m\u001b[0mbest_estimator_\u001b[0m\u001b[0;34m.\u001b[0m\u001b[0mfit\u001b[0m\u001b[0;34m(\u001b[0m\u001b[0mX\u001b[0m\u001b[0;34m,\u001b[0m \u001b[0my\u001b[0m\u001b[0;34m,\u001b[0m \u001b[0;34m**\u001b[0m\u001b[0mfit_params\u001b[0m\u001b[0;34m)\u001b[0m\u001b[0;34m\u001b[0m\u001b[0;34m\u001b[0m\u001b[0m\n\u001b[0m\u001b[1;32m    881\u001b[0m             \u001b[0;32melse\u001b[0m\u001b[0;34m:\u001b[0m\u001b[0;34m\u001b[0m\u001b[0;34m\u001b[0m\u001b[0m\n\u001b[1;32m    882\u001b[0m                 \u001b[0mself\u001b[0m\u001b[0;34m.\u001b[0m\u001b[0mbest_estimator_\u001b[0m\u001b[0;34m.\u001b[0m\u001b[0mfit\u001b[0m\u001b[0;34m(\u001b[0m\u001b[0mX\u001b[0m\u001b[0;34m,\u001b[0m \u001b[0;34m**\u001b[0m\u001b[0mfit_params\u001b[0m\u001b[0;34m)\u001b[0m\u001b[0;34m\u001b[0m\u001b[0;34m\u001b[0m\u001b[0m\n",
      "\u001b[0;32m~/anaconda3/envs/tensorflow_p36/lib/python3.6/site-packages/sklearn/ensemble/_forest.py\u001b[0m in \u001b[0;36mfit\u001b[0;34m(self, X, y, sample_weight)\u001b[0m\n\u001b[1;32m    303\u001b[0m             )\n\u001b[1;32m    304\u001b[0m         X, y = self._validate_data(X, y, multi_output=True,\n\u001b[0;32m--> 305\u001b[0;31m                                    accept_sparse=\"csc\", dtype=DTYPE)\n\u001b[0m\u001b[1;32m    306\u001b[0m         \u001b[0;32mif\u001b[0m \u001b[0msample_weight\u001b[0m \u001b[0;32mis\u001b[0m \u001b[0;32mnot\u001b[0m \u001b[0;32mNone\u001b[0m\u001b[0;34m:\u001b[0m\u001b[0;34m\u001b[0m\u001b[0;34m\u001b[0m\u001b[0m\n\u001b[1;32m    307\u001b[0m             \u001b[0msample_weight\u001b[0m \u001b[0;34m=\u001b[0m \u001b[0m_check_sample_weight\u001b[0m\u001b[0;34m(\u001b[0m\u001b[0msample_weight\u001b[0m\u001b[0;34m,\u001b[0m \u001b[0mX\u001b[0m\u001b[0;34m)\u001b[0m\u001b[0;34m\u001b[0m\u001b[0;34m\u001b[0m\u001b[0m\n",
      "\u001b[0;32m~/anaconda3/envs/tensorflow_p36/lib/python3.6/site-packages/sklearn/base.py\u001b[0m in \u001b[0;36m_validate_data\u001b[0;34m(self, X, y, reset, validate_separately, **check_params)\u001b[0m\n\u001b[1;32m    431\u001b[0m                 \u001b[0my\u001b[0m \u001b[0;34m=\u001b[0m \u001b[0mcheck_array\u001b[0m\u001b[0;34m(\u001b[0m\u001b[0my\u001b[0m\u001b[0;34m,\u001b[0m \u001b[0;34m**\u001b[0m\u001b[0mcheck_y_params\u001b[0m\u001b[0;34m)\u001b[0m\u001b[0;34m\u001b[0m\u001b[0;34m\u001b[0m\u001b[0m\n\u001b[1;32m    432\u001b[0m             \u001b[0;32melse\u001b[0m\u001b[0;34m:\u001b[0m\u001b[0;34m\u001b[0m\u001b[0;34m\u001b[0m\u001b[0m\n\u001b[0;32m--> 433\u001b[0;31m                 \u001b[0mX\u001b[0m\u001b[0;34m,\u001b[0m \u001b[0my\u001b[0m \u001b[0;34m=\u001b[0m \u001b[0mcheck_X_y\u001b[0m\u001b[0;34m(\u001b[0m\u001b[0mX\u001b[0m\u001b[0;34m,\u001b[0m \u001b[0my\u001b[0m\u001b[0;34m,\u001b[0m \u001b[0;34m**\u001b[0m\u001b[0mcheck_params\u001b[0m\u001b[0;34m)\u001b[0m\u001b[0;34m\u001b[0m\u001b[0;34m\u001b[0m\u001b[0m\n\u001b[0m\u001b[1;32m    434\u001b[0m             \u001b[0mout\u001b[0m \u001b[0;34m=\u001b[0m \u001b[0mX\u001b[0m\u001b[0;34m,\u001b[0m \u001b[0my\u001b[0m\u001b[0;34m\u001b[0m\u001b[0;34m\u001b[0m\u001b[0m\n\u001b[1;32m    435\u001b[0m \u001b[0;34m\u001b[0m\u001b[0m\n",
      "\u001b[0;32m~/anaconda3/envs/tensorflow_p36/lib/python3.6/site-packages/sklearn/utils/validation.py\u001b[0m in \u001b[0;36minner_f\u001b[0;34m(*args, **kwargs)\u001b[0m\n\u001b[1;32m     61\u001b[0m             \u001b[0mextra_args\u001b[0m \u001b[0;34m=\u001b[0m \u001b[0mlen\u001b[0m\u001b[0;34m(\u001b[0m\u001b[0margs\u001b[0m\u001b[0;34m)\u001b[0m \u001b[0;34m-\u001b[0m \u001b[0mlen\u001b[0m\u001b[0;34m(\u001b[0m\u001b[0mall_args\u001b[0m\u001b[0;34m)\u001b[0m\u001b[0;34m\u001b[0m\u001b[0;34m\u001b[0m\u001b[0m\n\u001b[1;32m     62\u001b[0m             \u001b[0;32mif\u001b[0m \u001b[0mextra_args\u001b[0m \u001b[0;34m<=\u001b[0m \u001b[0;36m0\u001b[0m\u001b[0;34m:\u001b[0m\u001b[0;34m\u001b[0m\u001b[0;34m\u001b[0m\u001b[0m\n\u001b[0;32m---> 63\u001b[0;31m                 \u001b[0;32mreturn\u001b[0m \u001b[0mf\u001b[0m\u001b[0;34m(\u001b[0m\u001b[0;34m*\u001b[0m\u001b[0margs\u001b[0m\u001b[0;34m,\u001b[0m \u001b[0;34m**\u001b[0m\u001b[0mkwargs\u001b[0m\u001b[0;34m)\u001b[0m\u001b[0;34m\u001b[0m\u001b[0;34m\u001b[0m\u001b[0m\n\u001b[0m\u001b[1;32m     64\u001b[0m \u001b[0;34m\u001b[0m\u001b[0m\n\u001b[1;32m     65\u001b[0m             \u001b[0;31m# extra_args > 0\u001b[0m\u001b[0;34m\u001b[0m\u001b[0;34m\u001b[0m\u001b[0;34m\u001b[0m\u001b[0m\n",
      "\u001b[0;32m~/anaconda3/envs/tensorflow_p36/lib/python3.6/site-packages/sklearn/utils/validation.py\u001b[0m in \u001b[0;36mcheck_X_y\u001b[0;34m(X, y, accept_sparse, accept_large_sparse, dtype, order, copy, force_all_finite, ensure_2d, allow_nd, multi_output, ensure_min_samples, ensure_min_features, y_numeric, estimator)\u001b[0m\n\u001b[1;32m    819\u001b[0m                     \u001b[0mensure_min_samples\u001b[0m\u001b[0;34m=\u001b[0m\u001b[0mensure_min_samples\u001b[0m\u001b[0;34m,\u001b[0m\u001b[0;34m\u001b[0m\u001b[0;34m\u001b[0m\u001b[0m\n\u001b[1;32m    820\u001b[0m                     \u001b[0mensure_min_features\u001b[0m\u001b[0;34m=\u001b[0m\u001b[0mensure_min_features\u001b[0m\u001b[0;34m,\u001b[0m\u001b[0;34m\u001b[0m\u001b[0;34m\u001b[0m\u001b[0m\n\u001b[0;32m--> 821\u001b[0;31m                     estimator=estimator)\n\u001b[0m\u001b[1;32m    822\u001b[0m     \u001b[0;32mif\u001b[0m \u001b[0mmulti_output\u001b[0m\u001b[0;34m:\u001b[0m\u001b[0;34m\u001b[0m\u001b[0;34m\u001b[0m\u001b[0m\n\u001b[1;32m    823\u001b[0m         y = check_array(y, accept_sparse='csr', force_all_finite=True,\n",
      "\u001b[0;32m~/anaconda3/envs/tensorflow_p36/lib/python3.6/site-packages/sklearn/utils/validation.py\u001b[0m in \u001b[0;36minner_f\u001b[0;34m(*args, **kwargs)\u001b[0m\n\u001b[1;32m     61\u001b[0m             \u001b[0mextra_args\u001b[0m \u001b[0;34m=\u001b[0m \u001b[0mlen\u001b[0m\u001b[0;34m(\u001b[0m\u001b[0margs\u001b[0m\u001b[0;34m)\u001b[0m \u001b[0;34m-\u001b[0m \u001b[0mlen\u001b[0m\u001b[0;34m(\u001b[0m\u001b[0mall_args\u001b[0m\u001b[0;34m)\u001b[0m\u001b[0;34m\u001b[0m\u001b[0;34m\u001b[0m\u001b[0m\n\u001b[1;32m     62\u001b[0m             \u001b[0;32mif\u001b[0m \u001b[0mextra_args\u001b[0m \u001b[0;34m<=\u001b[0m \u001b[0;36m0\u001b[0m\u001b[0;34m:\u001b[0m\u001b[0;34m\u001b[0m\u001b[0;34m\u001b[0m\u001b[0m\n\u001b[0;32m---> 63\u001b[0;31m                 \u001b[0;32mreturn\u001b[0m \u001b[0mf\u001b[0m\u001b[0;34m(\u001b[0m\u001b[0;34m*\u001b[0m\u001b[0margs\u001b[0m\u001b[0;34m,\u001b[0m \u001b[0;34m**\u001b[0m\u001b[0mkwargs\u001b[0m\u001b[0;34m)\u001b[0m\u001b[0;34m\u001b[0m\u001b[0;34m\u001b[0m\u001b[0m\n\u001b[0m\u001b[1;32m     64\u001b[0m \u001b[0;34m\u001b[0m\u001b[0m\n\u001b[1;32m     65\u001b[0m             \u001b[0;31m# extra_args > 0\u001b[0m\u001b[0;34m\u001b[0m\u001b[0;34m\u001b[0m\u001b[0;34m\u001b[0m\u001b[0m\n",
      "\u001b[0;32m~/anaconda3/envs/tensorflow_p36/lib/python3.6/site-packages/sklearn/utils/validation.py\u001b[0m in \u001b[0;36mcheck_array\u001b[0;34m(array, accept_sparse, accept_large_sparse, dtype, order, copy, force_all_finite, ensure_2d, allow_nd, ensure_min_samples, ensure_min_features, estimator)\u001b[0m\n\u001b[1;32m    614\u001b[0m                     \u001b[0marray\u001b[0m \u001b[0;34m=\u001b[0m \u001b[0marray\u001b[0m\u001b[0;34m.\u001b[0m\u001b[0mastype\u001b[0m\u001b[0;34m(\u001b[0m\u001b[0mdtype\u001b[0m\u001b[0;34m,\u001b[0m \u001b[0mcasting\u001b[0m\u001b[0;34m=\u001b[0m\u001b[0;34m\"unsafe\"\u001b[0m\u001b[0;34m,\u001b[0m \u001b[0mcopy\u001b[0m\u001b[0;34m=\u001b[0m\u001b[0;32mFalse\u001b[0m\u001b[0;34m)\u001b[0m\u001b[0;34m\u001b[0m\u001b[0;34m\u001b[0m\u001b[0m\n\u001b[1;32m    615\u001b[0m                 \u001b[0;32melse\u001b[0m\u001b[0;34m:\u001b[0m\u001b[0;34m\u001b[0m\u001b[0;34m\u001b[0m\u001b[0m\n\u001b[0;32m--> 616\u001b[0;31m                     \u001b[0marray\u001b[0m \u001b[0;34m=\u001b[0m \u001b[0mnp\u001b[0m\u001b[0;34m.\u001b[0m\u001b[0masarray\u001b[0m\u001b[0;34m(\u001b[0m\u001b[0marray\u001b[0m\u001b[0;34m,\u001b[0m \u001b[0morder\u001b[0m\u001b[0;34m=\u001b[0m\u001b[0morder\u001b[0m\u001b[0;34m,\u001b[0m \u001b[0mdtype\u001b[0m\u001b[0;34m=\u001b[0m\u001b[0mdtype\u001b[0m\u001b[0;34m)\u001b[0m\u001b[0;34m\u001b[0m\u001b[0;34m\u001b[0m\u001b[0m\n\u001b[0m\u001b[1;32m    617\u001b[0m             \u001b[0;32mexcept\u001b[0m \u001b[0mComplexWarning\u001b[0m \u001b[0;32mas\u001b[0m \u001b[0mcomplex_warning\u001b[0m\u001b[0;34m:\u001b[0m\u001b[0;34m\u001b[0m\u001b[0;34m\u001b[0m\u001b[0m\n\u001b[1;32m    618\u001b[0m                 raise ValueError(\"Complex data not supported\\n\"\n",
      "\u001b[0;32m~/anaconda3/envs/tensorflow_p36/lib/python3.6/site-packages/numpy/core/_asarray.py\u001b[0m in \u001b[0;36masarray\u001b[0;34m(a, dtype, order)\u001b[0m\n\u001b[1;32m     83\u001b[0m \u001b[0;34m\u001b[0m\u001b[0m\n\u001b[1;32m     84\u001b[0m     \"\"\"\n\u001b[0;32m---> 85\u001b[0;31m     \u001b[0;32mreturn\u001b[0m \u001b[0marray\u001b[0m\u001b[0;34m(\u001b[0m\u001b[0ma\u001b[0m\u001b[0;34m,\u001b[0m \u001b[0mdtype\u001b[0m\u001b[0;34m,\u001b[0m \u001b[0mcopy\u001b[0m\u001b[0;34m=\u001b[0m\u001b[0;32mFalse\u001b[0m\u001b[0;34m,\u001b[0m \u001b[0morder\u001b[0m\u001b[0;34m=\u001b[0m\u001b[0morder\u001b[0m\u001b[0;34m)\u001b[0m\u001b[0;34m\u001b[0m\u001b[0;34m\u001b[0m\u001b[0m\n\u001b[0m\u001b[1;32m     86\u001b[0m \u001b[0;34m\u001b[0m\u001b[0m\n\u001b[1;32m     87\u001b[0m \u001b[0;34m\u001b[0m\u001b[0m\n",
      "\u001b[0;32m~/anaconda3/envs/tensorflow_p36/lib/python3.6/site-packages/pandas/core/generic.py\u001b[0m in \u001b[0;36m__array__\u001b[0;34m(self, dtype)\u001b[0m\n\u001b[1;32m   1779\u001b[0m \u001b[0;34m\u001b[0m\u001b[0m\n\u001b[1;32m   1780\u001b[0m     \u001b[0;32mdef\u001b[0m \u001b[0m__array__\u001b[0m\u001b[0;34m(\u001b[0m\u001b[0mself\u001b[0m\u001b[0;34m,\u001b[0m \u001b[0mdtype\u001b[0m\u001b[0;34m=\u001b[0m\u001b[0;32mNone\u001b[0m\u001b[0;34m)\u001b[0m \u001b[0;34m->\u001b[0m \u001b[0mnp\u001b[0m\u001b[0;34m.\u001b[0m\u001b[0mndarray\u001b[0m\u001b[0;34m:\u001b[0m\u001b[0;34m\u001b[0m\u001b[0;34m\u001b[0m\u001b[0m\n\u001b[0;32m-> 1781\u001b[0;31m         \u001b[0;32mreturn\u001b[0m \u001b[0mnp\u001b[0m\u001b[0;34m.\u001b[0m\u001b[0masarray\u001b[0m\u001b[0;34m(\u001b[0m\u001b[0mself\u001b[0m\u001b[0;34m.\u001b[0m\u001b[0m_values\u001b[0m\u001b[0;34m,\u001b[0m \u001b[0mdtype\u001b[0m\u001b[0;34m=\u001b[0m\u001b[0mdtype\u001b[0m\u001b[0;34m)\u001b[0m\u001b[0;34m\u001b[0m\u001b[0;34m\u001b[0m\u001b[0m\n\u001b[0m\u001b[1;32m   1782\u001b[0m \u001b[0;34m\u001b[0m\u001b[0m\n\u001b[1;32m   1783\u001b[0m     \u001b[0;32mdef\u001b[0m \u001b[0m__array_wrap__\u001b[0m\u001b[0;34m(\u001b[0m\u001b[0mself\u001b[0m\u001b[0;34m,\u001b[0m \u001b[0mresult\u001b[0m\u001b[0;34m,\u001b[0m \u001b[0mcontext\u001b[0m\u001b[0;34m=\u001b[0m\u001b[0;32mNone\u001b[0m\u001b[0;34m)\u001b[0m\u001b[0;34m:\u001b[0m\u001b[0;34m\u001b[0m\u001b[0;34m\u001b[0m\u001b[0m\n",
      "\u001b[0;32m~/anaconda3/envs/tensorflow_p36/lib/python3.6/site-packages/numpy/core/_asarray.py\u001b[0m in \u001b[0;36masarray\u001b[0;34m(a, dtype, order)\u001b[0m\n\u001b[1;32m     83\u001b[0m \u001b[0;34m\u001b[0m\u001b[0m\n\u001b[1;32m     84\u001b[0m     \"\"\"\n\u001b[0;32m---> 85\u001b[0;31m     \u001b[0;32mreturn\u001b[0m \u001b[0marray\u001b[0m\u001b[0;34m(\u001b[0m\u001b[0ma\u001b[0m\u001b[0;34m,\u001b[0m \u001b[0mdtype\u001b[0m\u001b[0;34m,\u001b[0m \u001b[0mcopy\u001b[0m\u001b[0;34m=\u001b[0m\u001b[0;32mFalse\u001b[0m\u001b[0;34m,\u001b[0m \u001b[0morder\u001b[0m\u001b[0;34m=\u001b[0m\u001b[0morder\u001b[0m\u001b[0;34m)\u001b[0m\u001b[0;34m\u001b[0m\u001b[0;34m\u001b[0m\u001b[0m\n\u001b[0m\u001b[1;32m     86\u001b[0m \u001b[0;34m\u001b[0m\u001b[0m\n\u001b[1;32m     87\u001b[0m \u001b[0;34m\u001b[0m\u001b[0m\n",
      "\u001b[0;31mValueError\u001b[0m: setting an array element with a sequence."
     ]
    }
   ],
   "source": [
    "\n",
    "# Create the parameter grid based on the results of random search \n",
    "param_grid = {\n",
    "    'max_depth': [10,50,100],\n",
    "    'min_samples_leaf': range(200, 500, 100),\n",
    "    'min_samples_split': range(200, 600, 100),\n",
    "    'n_estimators': [100,200, 300], \n",
    "    'max_features': [5, 10,20]\n",
    "}\n",
    "# Create a based model\n",
    "rf = RandomForestClassifier()\n",
    "# Instantiate the grid search model\n",
    "grid_search = GridSearchCV(estimator = rf, param_grid = param_grid, \n",
    "                          cv = 3, n_jobs = -1,verbose = 10)\n",
    "                          \n",
    "grid_search.fit(X_train, y_train)   "
   ]
  },
  {
   "cell_type": "code",
   "execution_count": 25,
   "id": "a80c1dc0",
   "metadata": {},
   "outputs": [
    {
     "ename": "AttributeError",
     "evalue": "'GridSearchCV' object has no attribute 'cv_results_'",
     "output_type": "error",
     "traceback": [
      "\u001b[0;31m---------------------------------------------------------------------------\u001b[0m",
      "\u001b[0;31mAttributeError\u001b[0m                            Traceback (most recent call last)",
      "\u001b[0;32m<ipython-input-25-4796aaf8cc1e>\u001b[0m in \u001b[0;36m<module>\u001b[0;34m\u001b[0m\n\u001b[0;32m----> 1\u001b[0;31m \u001b[0mgrid_search\u001b[0m\u001b[0;34m.\u001b[0m\u001b[0mcv_results_\u001b[0m\u001b[0;34m\u001b[0m\u001b[0;34m\u001b[0m\u001b[0m\n\u001b[0m",
      "\u001b[0;31mAttributeError\u001b[0m: 'GridSearchCV' object has no attribute 'cv_results_'"
     ]
    }
   ],
   "source": [
    "grid_search."
   ]
  },
  {
   "cell_type": "code",
   "execution_count": null,
   "id": "0678e54e",
   "metadata": {},
   "outputs": [],
   "source": [
    "# Printing the optimal accuracy score and hyperparameters\n",
    "print('We can get accuracy of',grid_search.best_score_,'using',grid_search.best_par"
   ]
  },
  {
   "cell_type": "code",
   "execution_count": null,
   "id": "778eecc7",
   "metadata": {},
   "outputs": [],
   "source": [
    "from sklearn.ensemble import RandomForestClassifier\n",
    "rfc = RandomForestClassifier(bootstrap=True,\n",
    "                             max_depth=10,\n",
    "                             min_samples_leaf=100, \n",
    "                             min_samples_split=200,\n",
    "                             max_features=5,\n",
    "                             n_estimators=300)\n",
    "rfc.fit(X_train_1,y_train)   "
   ]
  }
 ],
 "metadata": {
  "kernelspec": {
   "display_name": "conda_tensorflow_p36",
   "language": "python",
   "name": "conda_tensorflow_p36"
  },
  "language_info": {
   "codemirror_mode": {
    "name": "ipython",
    "version": 3
   },
   "file_extension": ".py",
   "mimetype": "text/x-python",
   "name": "python",
   "nbconvert_exporter": "python",
   "pygments_lexer": "ipython3",
   "version": "3.6.13"
  }
 },
 "nbformat": 4,
 "nbformat_minor": 5
}
